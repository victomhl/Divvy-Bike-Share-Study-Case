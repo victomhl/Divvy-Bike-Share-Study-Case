{
 "cells": [
  {
   "cell_type": "markdown",
   "id": "f82b01d6",
   "metadata": {
    "papermill": {
     "duration": 0.063544,
     "end_time": "2022-04-06T23:18:07.956370",
     "exception": false,
     "start_time": "2022-04-06T23:18:07.892826",
     "status": "completed"
    },
    "tags": []
   },
   "source": [
    "# Divvy Bike Share Study Case"
   ]
  },
  {
   "cell_type": "markdown",
   "id": "32ff4585",
   "metadata": {
    "papermill": {
     "duration": 0.0574,
     "end_time": "2022-04-06T23:18:08.070974",
     "exception": false,
     "start_time": "2022-04-06T23:18:08.013574",
     "status": "completed"
    },
    "tags": []
   },
   "source": [
    "Author: Victor Hurtado"
   ]
  },
  {
   "cell_type": "markdown",
   "id": "38ecd0f9",
   "metadata": {
    "papermill": {
     "duration": 0.056429,
     "end_time": "2022-04-06T23:18:08.184041",
     "exception": false,
     "start_time": "2022-04-06T23:18:08.127612",
     "status": "completed"
    },
    "tags": []
   },
   "source": [
    "## Description"
   ]
  },
  {
   "cell_type": "markdown",
   "id": "5fe354fe",
   "metadata": {
    "papermill": {
     "duration": 0.057428,
     "end_time": "2022-04-06T23:18:08.297681",
     "exception": false,
     "start_time": "2022-04-06T23:18:08.240253",
     "status": "completed"
    },
    "tags": []
   },
   "source": [
    "The purpose of this notebook is to study the difference between members and casual types of user using the Divvy bike share service.\n",
    "\n",
    "Motivate International Inc. (“Motivate”) operates the City of Chicago’s (“City”) Divvy bicycle sharing service. The City permits Motivate to make certain Divvy system data owned by the City (“Data”) available to the public.\n",
    "\n",
    "The Data has been made available by Motivate International Inc. under this [license](https://www.divvybikes.com/data-license-agreement). And, it can be found [here](https://divvy-tripdata.s3.amazonaws.com/index.html).\n",
    "\n",
    "The Data contain the type of bicycle used, information about the departure and arrival stations (id, name, latitude and longitude), date and time the trip started and ended, the type of membership used, as well as an unique id assigned to the use of the service.\n",
    "\n",
    "It should be noted that the Data does not allow differentiating the repetitive use of the services by a certain user or group of users. This is due to the data distribution policy."
   ]
  },
  {
   "cell_type": "markdown",
   "id": "d4a253d1",
   "metadata": {
    "papermill": {
     "duration": 0.057845,
     "end_time": "2022-04-06T23:18:08.414567",
     "exception": false,
     "start_time": "2022-04-06T23:18:08.356722",
     "status": "completed"
    },
    "tags": []
   },
   "source": [
    "## Setting up the environment"
   ]
  },
  {
   "cell_type": "code",
   "execution_count": 1,
   "id": "8b8ac759",
   "metadata": {
    "papermill": {
     "duration": 1.053421,
     "end_time": "2022-04-06T23:18:09.588322",
     "exception": false,
     "start_time": "2022-04-06T23:18:08.534901",
     "status": "completed"
    },
    "tags": []
   },
   "outputs": [],
   "source": [
    "import pandas as pd\n",
    "import numpy as np\n",
    "import scipy.stats as stats\n",
    "import matplotlib.pyplot as plt\n",
    "import seaborn as sns\n",
    "from datetime import timedelta"
   ]
  },
  {
   "cell_type": "markdown",
   "id": "6b7f92b0",
   "metadata": {
    "papermill": {
     "duration": 0.058024,
     "end_time": "2022-04-06T23:18:09.705552",
     "exception": false,
     "start_time": "2022-04-06T23:18:09.647528",
     "status": "completed"
    },
    "tags": []
   },
   "source": [
    "## 1. Import Data"
   ]
  },
  {
   "cell_type": "markdown",
   "id": "bbe87ca9",
   "metadata": {
    "papermill": {
     "duration": 0.058782,
     "end_time": "2022-04-06T23:18:09.824773",
     "exception": false,
     "start_time": "2022-04-06T23:18:09.765991",
     "status": "completed"
    },
    "tags": []
   },
   "source": [
    "With the purpose of simplify the exploration of the data, every dataframe will be added a new column ('file_name')."
   ]
  },
  {
   "cell_type": "code",
   "execution_count": 2,
   "id": "35ffb8ed",
   "metadata": {
    "papermill": {
     "duration": 2.387459,
     "end_time": "2022-04-06T23:18:12.272839",
     "exception": false,
     "start_time": "2022-04-06T23:18:09.885380",
     "status": "completed"
    },
    "scrolled": true,
    "tags": []
   },
   "outputs": [],
   "source": [
    "df_202010 = pd.read_csv('../data/202010-divvy-tripdata.csv')\n",
    "df_202010['file_name'] = '2020_10'\n",
    "#df_202010.head()"
   ]
  },
  {
   "cell_type": "code",
   "execution_count": 3,
   "id": "f1429b91",
   "metadata": {
    "papermill": {
     "duration": 1.509757,
     "end_time": "2022-04-06T23:18:13.838718",
     "exception": false,
     "start_time": "2022-04-06T23:18:12.328961",
     "status": "completed"
    },
    "scrolled": true,
    "tags": []
   },
   "outputs": [],
   "source": [
    "df_202011 = pd.read_csv('../data/202011-divvy-tripdata.csv')\n",
    "df_202011['file_name'] = '2020_11'\n",
    "#df_202011.head()"
   ]
  },
  {
   "cell_type": "code",
   "execution_count": 4,
   "id": "21220e76",
   "metadata": {
    "papermill": {
     "duration": 0.842881,
     "end_time": "2022-04-06T23:18:14.738318",
     "exception": false,
     "start_time": "2022-04-06T23:18:13.895437",
     "status": "completed"
    },
    "scrolled": true,
    "tags": []
   },
   "outputs": [],
   "source": [
    "df_202012 = pd.read_csv('../data/202012-divvy-tripdata.csv')\n",
    "df_202012['file_name'] = '2020_12'\n",
    "#df_202012.head()"
   ]
  },
  {
   "cell_type": "code",
   "execution_count": 5,
   "id": "3917e7cc",
   "metadata": {
    "papermill": {
     "duration": 0.637514,
     "end_time": "2022-04-06T23:18:15.432018",
     "exception": false,
     "start_time": "2022-04-06T23:18:14.794504",
     "status": "completed"
    },
    "scrolled": true,
    "tags": []
   },
   "outputs": [],
   "source": [
    "df_202101 = pd.read_csv('../data/202101-divvy-tripdata.csv')\n",
    "df_202101['file_name'] = '2021_01'\n",
    "#df_202101.head()"
   ]
  },
  {
   "cell_type": "code",
   "execution_count": 6,
   "id": "66178aad",
   "metadata": {
    "papermill": {
     "duration": 0.375908,
     "end_time": "2022-04-06T23:18:15.864079",
     "exception": false,
     "start_time": "2022-04-06T23:18:15.488171",
     "status": "completed"
    },
    "scrolled": true,
    "tags": []
   },
   "outputs": [],
   "source": [
    "df_202102 = pd.read_csv('../data/202102-divvy-tripdata.csv')\n",
    "df_202102['file_name'] = '2021_02'\n",
    "#df_202102.head()"
   ]
  },
  {
   "cell_type": "code",
   "execution_count": 7,
   "id": "fc64cb99",
   "metadata": {
    "papermill": {
     "duration": 1.442223,
     "end_time": "2022-04-06T23:18:17.371657",
     "exception": false,
     "start_time": "2022-04-06T23:18:15.929434",
     "status": "completed"
    },
    "scrolled": true,
    "tags": []
   },
   "outputs": [],
   "source": [
    "df_202103 = pd.read_csv('../data/202103-divvy-tripdata.csv')\n",
    "df_202103['file_name'] = '2021_03'\n",
    "#df_202103.head()"
   ]
  },
  {
   "cell_type": "code",
   "execution_count": 8,
   "id": "28e0300d",
   "metadata": {
    "papermill": {
     "duration": 1.956857,
     "end_time": "2022-04-06T23:18:19.387916",
     "exception": false,
     "start_time": "2022-04-06T23:18:17.431059",
     "status": "completed"
    },
    "scrolled": true,
    "tags": []
   },
   "outputs": [],
   "source": [
    "df_202104 = pd.read_csv('../data/202104-divvy-tripdata.csv')\n",
    "df_202104['file_name'] = '2021_04'\n",
    "#df_202104.head()"
   ]
  },
  {
   "cell_type": "code",
   "execution_count": 9,
   "id": "9b2b4fe8",
   "metadata": {
    "papermill": {
     "duration": 3.007878,
     "end_time": "2022-04-06T23:18:22.453624",
     "exception": false,
     "start_time": "2022-04-06T23:18:19.445746",
     "status": "completed"
    },
    "scrolled": true,
    "tags": []
   },
   "outputs": [],
   "source": [
    "df_202105 = pd.read_csv('../data/202105-divvy-tripdata.csv')\n",
    "df_202105['file_name'] = '2021_05'\n",
    "#df_202105.head()"
   ]
  },
  {
   "cell_type": "code",
   "execution_count": 10,
   "id": "8566bf27",
   "metadata": {
    "papermill": {
     "duration": 4.053129,
     "end_time": "2022-04-06T23:18:26.562894",
     "exception": false,
     "start_time": "2022-04-06T23:18:22.509765",
     "status": "completed"
    },
    "scrolled": true,
    "tags": []
   },
   "outputs": [],
   "source": [
    "df_202106 = pd.read_csv('../data/202106-divvy-tripdata.csv')\n",
    "df_202106['file_name'] = '2021_06'\n",
    "#df_202106.head()"
   ]
  },
  {
   "cell_type": "code",
   "execution_count": 11,
   "id": "76f587bf",
   "metadata": {
    "papermill": {
     "duration": 4.545588,
     "end_time": "2022-04-06T23:18:31.165235",
     "exception": false,
     "start_time": "2022-04-06T23:18:26.619647",
     "status": "completed"
    },
    "scrolled": true,
    "tags": []
   },
   "outputs": [],
   "source": [
    "df_202107 = pd.read_csv('../data/202107-divvy-tripdata.csv')\n",
    "df_202107['file_name'] = '2021_07'\n",
    "#df_202107.head()"
   ]
  },
  {
   "cell_type": "code",
   "execution_count": 12,
   "id": "018affa5",
   "metadata": {
    "papermill": {
     "duration": 4.375799,
     "end_time": "2022-04-06T23:18:35.597351",
     "exception": false,
     "start_time": "2022-04-06T23:18:31.221552",
     "status": "completed"
    },
    "scrolled": true,
    "tags": []
   },
   "outputs": [],
   "source": [
    "df_202108 = pd.read_csv('../data/202108-divvy-tripdata.csv')\n",
    "df_202108['file_name'] = '2021_08'\n",
    "#df_202108.head()"
   ]
  },
  {
   "cell_type": "code",
   "execution_count": 13,
   "id": "cfab08a3",
   "metadata": {
    "papermill": {
     "duration": 4.124027,
     "end_time": "2022-04-06T23:18:39.777342",
     "exception": false,
     "start_time": "2022-04-06T23:18:35.653315",
     "status": "completed"
    },
    "scrolled": true,
    "tags": []
   },
   "outputs": [],
   "source": [
    "df_202109 = pd.read_csv('../data/202109-divvy-tripdata.csv')\n",
    "df_202109['file_name'] = '2021_09'\n",
    "#df_202109.head()"
   ]
  },
  {
   "cell_type": "markdown",
   "id": "3d6e5b03",
   "metadata": {
    "papermill": {
     "duration": 0.056159,
     "end_time": "2022-04-06T23:18:39.889612",
     "exception": false,
     "start_time": "2022-04-06T23:18:39.833453",
     "status": "completed"
    },
    "tags": []
   },
   "source": [
    "## 2. Explore"
   ]
  },
  {
   "cell_type": "markdown",
   "id": "140bcd22",
   "metadata": {
    "papermill": {
     "duration": 0.055887,
     "end_time": "2022-04-06T23:18:40.002877",
     "exception": false,
     "start_time": "2022-04-06T23:18:39.946990",
     "status": "completed"
    },
    "tags": []
   },
   "source": [
    "### 2.1 Columns Type"
   ]
  },
  {
   "cell_type": "code",
   "execution_count": 14,
   "id": "90b4436f",
   "metadata": {
    "papermill": {
     "duration": 0.064825,
     "end_time": "2022-04-06T23:18:40.123904",
     "exception": false,
     "start_time": "2022-04-06T23:18:40.059079",
     "status": "completed"
    },
    "tags": []
   },
   "outputs": [],
   "source": [
    "# Takes a number of dataframes, and return another dataframe whose number of rows correspond to the length \n",
    "# of the input, and the number of columns is the same as the input dataframes\n",
    "# Note: The input dataframes must have a file_name column, and the same number of column.\n",
    "def columns_type_report(*dataframes):\n",
    "    result = []\n",
    "    names = []\n",
    "    \n",
    "    for df in dataframes:\n",
    "        result.append(df.dtypes)\n",
    "        names.append(df['file_name'][0])\n",
    "            \n",
    "    return pd.DataFrame(result, index=names)"
   ]
  },
  {
   "cell_type": "code",
   "execution_count": 15,
   "id": "899c27c5",
   "metadata": {
    "papermill": {
     "duration": 0.094135,
     "end_time": "2022-04-06T23:18:40.273903",
     "exception": false,
     "start_time": "2022-04-06T23:18:40.179768",
     "status": "completed"
    },
    "tags": []
   },
   "outputs": [
    {
     "data": {
      "text/html": [
       "<div>\n",
       "<style scoped>\n",
       "    .dataframe tbody tr th:only-of-type {\n",
       "        vertical-align: middle;\n",
       "    }\n",
       "\n",
       "    .dataframe tbody tr th {\n",
       "        vertical-align: top;\n",
       "    }\n",
       "\n",
       "    .dataframe thead th {\n",
       "        text-align: right;\n",
       "    }\n",
       "</style>\n",
       "<table border=\"1\" class=\"dataframe\">\n",
       "  <thead>\n",
       "    <tr style=\"text-align: right;\">\n",
       "      <th></th>\n",
       "      <th>ride_id</th>\n",
       "      <th>rideable_type</th>\n",
       "      <th>started_at</th>\n",
       "      <th>ended_at</th>\n",
       "      <th>start_station_name</th>\n",
       "      <th>start_station_id</th>\n",
       "      <th>end_station_name</th>\n",
       "      <th>end_station_id</th>\n",
       "      <th>start_lat</th>\n",
       "      <th>start_lng</th>\n",
       "      <th>end_lat</th>\n",
       "      <th>end_lng</th>\n",
       "      <th>member_casual</th>\n",
       "      <th>file_name</th>\n",
       "    </tr>\n",
       "  </thead>\n",
       "  <tbody>\n",
       "    <tr>\n",
       "      <th>2020_10</th>\n",
       "      <td>object</td>\n",
       "      <td>object</td>\n",
       "      <td>object</td>\n",
       "      <td>object</td>\n",
       "      <td>object</td>\n",
       "      <td>float64</td>\n",
       "      <td>object</td>\n",
       "      <td>float64</td>\n",
       "      <td>float64</td>\n",
       "      <td>float64</td>\n",
       "      <td>float64</td>\n",
       "      <td>float64</td>\n",
       "      <td>object</td>\n",
       "      <td>object</td>\n",
       "    </tr>\n",
       "    <tr>\n",
       "      <th>2020_11</th>\n",
       "      <td>object</td>\n",
       "      <td>object</td>\n",
       "      <td>object</td>\n",
       "      <td>object</td>\n",
       "      <td>object</td>\n",
       "      <td>float64</td>\n",
       "      <td>object</td>\n",
       "      <td>float64</td>\n",
       "      <td>float64</td>\n",
       "      <td>float64</td>\n",
       "      <td>float64</td>\n",
       "      <td>float64</td>\n",
       "      <td>object</td>\n",
       "      <td>object</td>\n",
       "    </tr>\n",
       "    <tr>\n",
       "      <th>2020_12</th>\n",
       "      <td>object</td>\n",
       "      <td>object</td>\n",
       "      <td>object</td>\n",
       "      <td>object</td>\n",
       "      <td>object</td>\n",
       "      <td>object</td>\n",
       "      <td>object</td>\n",
       "      <td>object</td>\n",
       "      <td>float64</td>\n",
       "      <td>float64</td>\n",
       "      <td>float64</td>\n",
       "      <td>float64</td>\n",
       "      <td>object</td>\n",
       "      <td>object</td>\n",
       "    </tr>\n",
       "    <tr>\n",
       "      <th>2021_01</th>\n",
       "      <td>object</td>\n",
       "      <td>object</td>\n",
       "      <td>object</td>\n",
       "      <td>object</td>\n",
       "      <td>object</td>\n",
       "      <td>object</td>\n",
       "      <td>object</td>\n",
       "      <td>object</td>\n",
       "      <td>float64</td>\n",
       "      <td>float64</td>\n",
       "      <td>float64</td>\n",
       "      <td>float64</td>\n",
       "      <td>object</td>\n",
       "      <td>object</td>\n",
       "    </tr>\n",
       "    <tr>\n",
       "      <th>2021_02</th>\n",
       "      <td>object</td>\n",
       "      <td>object</td>\n",
       "      <td>object</td>\n",
       "      <td>object</td>\n",
       "      <td>object</td>\n",
       "      <td>object</td>\n",
       "      <td>object</td>\n",
       "      <td>object</td>\n",
       "      <td>float64</td>\n",
       "      <td>float64</td>\n",
       "      <td>float64</td>\n",
       "      <td>float64</td>\n",
       "      <td>object</td>\n",
       "      <td>object</td>\n",
       "    </tr>\n",
       "    <tr>\n",
       "      <th>2021_03</th>\n",
       "      <td>object</td>\n",
       "      <td>object</td>\n",
       "      <td>object</td>\n",
       "      <td>object</td>\n",
       "      <td>object</td>\n",
       "      <td>object</td>\n",
       "      <td>object</td>\n",
       "      <td>object</td>\n",
       "      <td>float64</td>\n",
       "      <td>float64</td>\n",
       "      <td>float64</td>\n",
       "      <td>float64</td>\n",
       "      <td>object</td>\n",
       "      <td>object</td>\n",
       "    </tr>\n",
       "    <tr>\n",
       "      <th>2021_04</th>\n",
       "      <td>object</td>\n",
       "      <td>object</td>\n",
       "      <td>object</td>\n",
       "      <td>object</td>\n",
       "      <td>object</td>\n",
       "      <td>object</td>\n",
       "      <td>object</td>\n",
       "      <td>object</td>\n",
       "      <td>float64</td>\n",
       "      <td>float64</td>\n",
       "      <td>float64</td>\n",
       "      <td>float64</td>\n",
       "      <td>object</td>\n",
       "      <td>object</td>\n",
       "    </tr>\n",
       "    <tr>\n",
       "      <th>2021_05</th>\n",
       "      <td>object</td>\n",
       "      <td>object</td>\n",
       "      <td>object</td>\n",
       "      <td>object</td>\n",
       "      <td>object</td>\n",
       "      <td>object</td>\n",
       "      <td>object</td>\n",
       "      <td>object</td>\n",
       "      <td>float64</td>\n",
       "      <td>float64</td>\n",
       "      <td>float64</td>\n",
       "      <td>float64</td>\n",
       "      <td>object</td>\n",
       "      <td>object</td>\n",
       "    </tr>\n",
       "    <tr>\n",
       "      <th>2021_06</th>\n",
       "      <td>object</td>\n",
       "      <td>object</td>\n",
       "      <td>object</td>\n",
       "      <td>object</td>\n",
       "      <td>object</td>\n",
       "      <td>object</td>\n",
       "      <td>object</td>\n",
       "      <td>object</td>\n",
       "      <td>float64</td>\n",
       "      <td>float64</td>\n",
       "      <td>float64</td>\n",
       "      <td>float64</td>\n",
       "      <td>object</td>\n",
       "      <td>object</td>\n",
       "    </tr>\n",
       "    <tr>\n",
       "      <th>2021_07</th>\n",
       "      <td>object</td>\n",
       "      <td>object</td>\n",
       "      <td>object</td>\n",
       "      <td>object</td>\n",
       "      <td>object</td>\n",
       "      <td>object</td>\n",
       "      <td>object</td>\n",
       "      <td>object</td>\n",
       "      <td>float64</td>\n",
       "      <td>float64</td>\n",
       "      <td>float64</td>\n",
       "      <td>float64</td>\n",
       "      <td>object</td>\n",
       "      <td>object</td>\n",
       "    </tr>\n",
       "    <tr>\n",
       "      <th>2021_08</th>\n",
       "      <td>object</td>\n",
       "      <td>object</td>\n",
       "      <td>object</td>\n",
       "      <td>object</td>\n",
       "      <td>object</td>\n",
       "      <td>object</td>\n",
       "      <td>object</td>\n",
       "      <td>object</td>\n",
       "      <td>float64</td>\n",
       "      <td>float64</td>\n",
       "      <td>float64</td>\n",
       "      <td>float64</td>\n",
       "      <td>object</td>\n",
       "      <td>object</td>\n",
       "    </tr>\n",
       "    <tr>\n",
       "      <th>2021_09</th>\n",
       "      <td>object</td>\n",
       "      <td>object</td>\n",
       "      <td>object</td>\n",
       "      <td>object</td>\n",
       "      <td>object</td>\n",
       "      <td>object</td>\n",
       "      <td>object</td>\n",
       "      <td>object</td>\n",
       "      <td>float64</td>\n",
       "      <td>float64</td>\n",
       "      <td>float64</td>\n",
       "      <td>float64</td>\n",
       "      <td>object</td>\n",
       "      <td>object</td>\n",
       "    </tr>\n",
       "  </tbody>\n",
       "</table>\n",
       "</div>"
      ],
      "text/plain": [
       "        ride_id rideable_type started_at ended_at start_station_name  \\\n",
       "2020_10  object        object     object   object             object   \n",
       "2020_11  object        object     object   object             object   \n",
       "2020_12  object        object     object   object             object   \n",
       "2021_01  object        object     object   object             object   \n",
       "2021_02  object        object     object   object             object   \n",
       "2021_03  object        object     object   object             object   \n",
       "2021_04  object        object     object   object             object   \n",
       "2021_05  object        object     object   object             object   \n",
       "2021_06  object        object     object   object             object   \n",
       "2021_07  object        object     object   object             object   \n",
       "2021_08  object        object     object   object             object   \n",
       "2021_09  object        object     object   object             object   \n",
       "\n",
       "        start_station_id end_station_name end_station_id start_lat start_lng  \\\n",
       "2020_10          float64           object        float64   float64   float64   \n",
       "2020_11          float64           object        float64   float64   float64   \n",
       "2020_12           object           object         object   float64   float64   \n",
       "2021_01           object           object         object   float64   float64   \n",
       "2021_02           object           object         object   float64   float64   \n",
       "2021_03           object           object         object   float64   float64   \n",
       "2021_04           object           object         object   float64   float64   \n",
       "2021_05           object           object         object   float64   float64   \n",
       "2021_06           object           object         object   float64   float64   \n",
       "2021_07           object           object         object   float64   float64   \n",
       "2021_08           object           object         object   float64   float64   \n",
       "2021_09           object           object         object   float64   float64   \n",
       "\n",
       "         end_lat  end_lng member_casual file_name  \n",
       "2020_10  float64  float64        object    object  \n",
       "2020_11  float64  float64        object    object  \n",
       "2020_12  float64  float64        object    object  \n",
       "2021_01  float64  float64        object    object  \n",
       "2021_02  float64  float64        object    object  \n",
       "2021_03  float64  float64        object    object  \n",
       "2021_04  float64  float64        object    object  \n",
       "2021_05  float64  float64        object    object  \n",
       "2021_06  float64  float64        object    object  \n",
       "2021_07  float64  float64        object    object  \n",
       "2021_08  float64  float64        object    object  \n",
       "2021_09  float64  float64        object    object  "
      ]
     },
     "execution_count": 15,
     "metadata": {},
     "output_type": "execute_result"
    }
   ],
   "source": [
    "columns_type_report(df_202010, df_202011, df_202012, df_202101, df_202102, df_202103,\n",
    "                    df_202104, df_202105, df_202106, df_202107, df_202108, df_202109)"
   ]
  },
  {
   "cell_type": "markdown",
   "id": "c1796d26",
   "metadata": {
    "papermill": {
     "duration": 0.056752,
     "end_time": "2022-04-06T23:18:40.387596",
     "exception": false,
     "start_time": "2022-04-06T23:18:40.330844",
     "status": "completed"
    },
    "tags": []
   },
   "source": [
    "* started_at and ended_at columns are object type.\n",
    "* Is also worth notice that the first two rows (2020_10 and 2020_11) have a numeric column type in the start and end station id, but the rest are object type."
   ]
  },
  {
   "cell_type": "markdown",
   "id": "4c55fd09",
   "metadata": {
    "papermill": {
     "duration": 0.056394,
     "end_time": "2022-04-06T23:18:40.501149",
     "exception": false,
     "start_time": "2022-04-06T23:18:40.444755",
     "status": "completed"
    },
    "tags": []
   },
   "source": [
    "### 2.2 Number of Observations"
   ]
  },
  {
   "cell_type": "code",
   "execution_count": 16,
   "id": "05394430",
   "metadata": {
    "papermill": {
     "duration": 0.065528,
     "end_time": "2022-04-06T23:18:40.624830",
     "exception": false,
     "start_time": "2022-04-06T23:18:40.559302",
     "status": "completed"
    },
    "tags": []
   },
   "outputs": [],
   "source": [
    "def number_of_obs_report(*dataframes):\n",
    "    result = []\n",
    "    names = []\n",
    "    \n",
    "    for df in dataframes:\n",
    "        shape = df.shape\n",
    "        result.append([shape[0], shape[1]])\n",
    "        names.append(df['file_name'][0])\n",
    "            \n",
    "    return pd.DataFrame(result, index=names, columns=['Rows', 'Columns'])"
   ]
  },
  {
   "cell_type": "code",
   "execution_count": 17,
   "id": "c17082bf",
   "metadata": {
    "papermill": {
     "duration": 0.069773,
     "end_time": "2022-04-06T23:18:40.751404",
     "exception": false,
     "start_time": "2022-04-06T23:18:40.681631",
     "status": "completed"
    },
    "tags": []
   },
   "outputs": [
    {
     "data": {
      "text/html": [
       "<div>\n",
       "<style scoped>\n",
       "    .dataframe tbody tr th:only-of-type {\n",
       "        vertical-align: middle;\n",
       "    }\n",
       "\n",
       "    .dataframe tbody tr th {\n",
       "        vertical-align: top;\n",
       "    }\n",
       "\n",
       "    .dataframe thead th {\n",
       "        text-align: right;\n",
       "    }\n",
       "</style>\n",
       "<table border=\"1\" class=\"dataframe\">\n",
       "  <thead>\n",
       "    <tr style=\"text-align: right;\">\n",
       "      <th></th>\n",
       "      <th>Rows</th>\n",
       "      <th>Columns</th>\n",
       "    </tr>\n",
       "  </thead>\n",
       "  <tbody>\n",
       "    <tr>\n",
       "      <th>2020_10</th>\n",
       "      <td>388653</td>\n",
       "      <td>14</td>\n",
       "    </tr>\n",
       "    <tr>\n",
       "      <th>2020_11</th>\n",
       "      <td>259716</td>\n",
       "      <td>14</td>\n",
       "    </tr>\n",
       "    <tr>\n",
       "      <th>2020_12</th>\n",
       "      <td>131573</td>\n",
       "      <td>14</td>\n",
       "    </tr>\n",
       "    <tr>\n",
       "      <th>2021_01</th>\n",
       "      <td>96834</td>\n",
       "      <td>14</td>\n",
       "    </tr>\n",
       "    <tr>\n",
       "      <th>2021_02</th>\n",
       "      <td>49622</td>\n",
       "      <td>14</td>\n",
       "    </tr>\n",
       "    <tr>\n",
       "      <th>2021_03</th>\n",
       "      <td>228496</td>\n",
       "      <td>14</td>\n",
       "    </tr>\n",
       "    <tr>\n",
       "      <th>2021_04</th>\n",
       "      <td>337230</td>\n",
       "      <td>14</td>\n",
       "    </tr>\n",
       "    <tr>\n",
       "      <th>2021_05</th>\n",
       "      <td>531633</td>\n",
       "      <td>14</td>\n",
       "    </tr>\n",
       "    <tr>\n",
       "      <th>2021_06</th>\n",
       "      <td>729595</td>\n",
       "      <td>14</td>\n",
       "    </tr>\n",
       "    <tr>\n",
       "      <th>2021_07</th>\n",
       "      <td>822410</td>\n",
       "      <td>14</td>\n",
       "    </tr>\n",
       "    <tr>\n",
       "      <th>2021_08</th>\n",
       "      <td>804352</td>\n",
       "      <td>14</td>\n",
       "    </tr>\n",
       "    <tr>\n",
       "      <th>2021_09</th>\n",
       "      <td>756147</td>\n",
       "      <td>14</td>\n",
       "    </tr>\n",
       "  </tbody>\n",
       "</table>\n",
       "</div>"
      ],
      "text/plain": [
       "           Rows  Columns\n",
       "2020_10  388653       14\n",
       "2020_11  259716       14\n",
       "2020_12  131573       14\n",
       "2021_01   96834       14\n",
       "2021_02   49622       14\n",
       "2021_03  228496       14\n",
       "2021_04  337230       14\n",
       "2021_05  531633       14\n",
       "2021_06  729595       14\n",
       "2021_07  822410       14\n",
       "2021_08  804352       14\n",
       "2021_09  756147       14"
      ]
     },
     "execution_count": 17,
     "metadata": {},
     "output_type": "execute_result"
    }
   ],
   "source": [
    "number_of_obs_report(df_202010, df_202011, df_202012, df_202101, df_202102, df_202103,\n",
    "                     df_202104, df_202105, df_202106, df_202107, df_202108, df_202109)"
   ]
  },
  {
   "cell_type": "markdown",
   "id": "f365ff2c",
   "metadata": {
    "papermill": {
     "duration": 0.057245,
     "end_time": "2022-04-06T23:18:40.865994",
     "exception": false,
     "start_time": "2022-04-06T23:18:40.808749",
     "status": "completed"
    },
    "tags": []
   },
   "source": [
    "### 2.3 Unique Values"
   ]
  },
  {
   "cell_type": "code",
   "execution_count": 18,
   "id": "eec1b6aa",
   "metadata": {
    "papermill": {
     "duration": 0.067648,
     "end_time": "2022-04-06T23:18:40.990944",
     "exception": false,
     "start_time": "2022-04-06T23:18:40.923296",
     "status": "completed"
    },
    "tags": []
   },
   "outputs": [],
   "source": [
    "# Not all columns have useful information about the range of values within them. So, the function subset\n",
    "# the number of columns in each input dataframe, and return a new dataframe with only those of columns.\n",
    "def unique_values_report(*dataframes):\n",
    "    results = []\n",
    "    names = []\n",
    "    \n",
    "    # Column Subset\n",
    "    columns = [0, 1, 4, 5, 6, 7, 12]  \n",
    "    for df in dataframes:\n",
    "        results.append(df.nunique().values[columns])\n",
    "        names.append(df['file_name'][0])\n",
    "        \n",
    "    return pd.DataFrame(results, index=names, columns=dataframes[0].columns[columns])"
   ]
  },
  {
   "cell_type": "code",
   "execution_count": 19,
   "id": "4250b2a3",
   "metadata": {
    "papermill": {
     "duration": 9.366706,
     "end_time": "2022-04-06T23:18:50.416068",
     "exception": false,
     "start_time": "2022-04-06T23:18:41.049362",
     "status": "completed"
    },
    "tags": []
   },
   "outputs": [
    {
     "data": {
      "text/html": [
       "<div>\n",
       "<style scoped>\n",
       "    .dataframe tbody tr th:only-of-type {\n",
       "        vertical-align: middle;\n",
       "    }\n",
       "\n",
       "    .dataframe tbody tr th {\n",
       "        vertical-align: top;\n",
       "    }\n",
       "\n",
       "    .dataframe thead th {\n",
       "        text-align: right;\n",
       "    }\n",
       "</style>\n",
       "<table border=\"1\" class=\"dataframe\">\n",
       "  <thead>\n",
       "    <tr style=\"text-align: right;\">\n",
       "      <th></th>\n",
       "      <th>ride_id</th>\n",
       "      <th>rideable_type</th>\n",
       "      <th>start_station_name</th>\n",
       "      <th>start_station_id</th>\n",
       "      <th>end_station_name</th>\n",
       "      <th>end_station_id</th>\n",
       "      <th>member_casual</th>\n",
       "    </tr>\n",
       "  </thead>\n",
       "  <tbody>\n",
       "    <tr>\n",
       "      <th>2020_10</th>\n",
       "      <td>388653</td>\n",
       "      <td>2</td>\n",
       "      <td>669</td>\n",
       "      <td>664</td>\n",
       "      <td>669</td>\n",
       "      <td>664</td>\n",
       "      <td>2</td>\n",
       "    </tr>\n",
       "    <tr>\n",
       "      <th>2020_11</th>\n",
       "      <td>259716</td>\n",
       "      <td>2</td>\n",
       "      <td>665</td>\n",
       "      <td>661</td>\n",
       "      <td>657</td>\n",
       "      <td>656</td>\n",
       "      <td>2</td>\n",
       "    </tr>\n",
       "    <tr>\n",
       "      <th>2020_12</th>\n",
       "      <td>131573</td>\n",
       "      <td>3</td>\n",
       "      <td>644</td>\n",
       "      <td>642</td>\n",
       "      <td>643</td>\n",
       "      <td>641</td>\n",
       "      <td>2</td>\n",
       "    </tr>\n",
       "    <tr>\n",
       "      <th>2021_01</th>\n",
       "      <td>96834</td>\n",
       "      <td>3</td>\n",
       "      <td>640</td>\n",
       "      <td>638</td>\n",
       "      <td>632</td>\n",
       "      <td>629</td>\n",
       "      <td>2</td>\n",
       "    </tr>\n",
       "    <tr>\n",
       "      <th>2021_02</th>\n",
       "      <td>49622</td>\n",
       "      <td>3</td>\n",
       "      <td>582</td>\n",
       "      <td>582</td>\n",
       "      <td>584</td>\n",
       "      <td>584</td>\n",
       "      <td>2</td>\n",
       "    </tr>\n",
       "    <tr>\n",
       "      <th>2021_03</th>\n",
       "      <td>228496</td>\n",
       "      <td>3</td>\n",
       "      <td>673</td>\n",
       "      <td>673</td>\n",
       "      <td>673</td>\n",
       "      <td>673</td>\n",
       "      <td>2</td>\n",
       "    </tr>\n",
       "    <tr>\n",
       "      <th>2021_04</th>\n",
       "      <td>337230</td>\n",
       "      <td>3</td>\n",
       "      <td>681</td>\n",
       "      <td>681</td>\n",
       "      <td>681</td>\n",
       "      <td>681</td>\n",
       "      <td>2</td>\n",
       "    </tr>\n",
       "    <tr>\n",
       "      <th>2021_05</th>\n",
       "      <td>531633</td>\n",
       "      <td>3</td>\n",
       "      <td>687</td>\n",
       "      <td>686</td>\n",
       "      <td>683</td>\n",
       "      <td>682</td>\n",
       "      <td>2</td>\n",
       "    </tr>\n",
       "    <tr>\n",
       "      <th>2021_06</th>\n",
       "      <td>729595</td>\n",
       "      <td>3</td>\n",
       "      <td>689</td>\n",
       "      <td>689</td>\n",
       "      <td>690</td>\n",
       "      <td>690</td>\n",
       "      <td>2</td>\n",
       "    </tr>\n",
       "    <tr>\n",
       "      <th>2021_07</th>\n",
       "      <td>822410</td>\n",
       "      <td>3</td>\n",
       "      <td>717</td>\n",
       "      <td>710</td>\n",
       "      <td>714</td>\n",
       "      <td>707</td>\n",
       "      <td>2</td>\n",
       "    </tr>\n",
       "    <tr>\n",
       "      <th>2021_08</th>\n",
       "      <td>804352</td>\n",
       "      <td>3</td>\n",
       "      <td>727</td>\n",
       "      <td>726</td>\n",
       "      <td>727</td>\n",
       "      <td>727</td>\n",
       "      <td>2</td>\n",
       "    </tr>\n",
       "    <tr>\n",
       "      <th>2021_09</th>\n",
       "      <td>756147</td>\n",
       "      <td>3</td>\n",
       "      <td>758</td>\n",
       "      <td>758</td>\n",
       "      <td>756</td>\n",
       "      <td>756</td>\n",
       "      <td>2</td>\n",
       "    </tr>\n",
       "  </tbody>\n",
       "</table>\n",
       "</div>"
      ],
      "text/plain": [
       "         ride_id  rideable_type  start_station_name  start_station_id  \\\n",
       "2020_10   388653              2                 669               664   \n",
       "2020_11   259716              2                 665               661   \n",
       "2020_12   131573              3                 644               642   \n",
       "2021_01    96834              3                 640               638   \n",
       "2021_02    49622              3                 582               582   \n",
       "2021_03   228496              3                 673               673   \n",
       "2021_04   337230              3                 681               681   \n",
       "2021_05   531633              3                 687               686   \n",
       "2021_06   729595              3                 689               689   \n",
       "2021_07   822410              3                 717               710   \n",
       "2021_08   804352              3                 727               726   \n",
       "2021_09   756147              3                 758               758   \n",
       "\n",
       "         end_station_name  end_station_id  member_casual  \n",
       "2020_10               669             664              2  \n",
       "2020_11               657             656              2  \n",
       "2020_12               643             641              2  \n",
       "2021_01               632             629              2  \n",
       "2021_02               584             584              2  \n",
       "2021_03               673             673              2  \n",
       "2021_04               681             681              2  \n",
       "2021_05               683             682              2  \n",
       "2021_06               690             690              2  \n",
       "2021_07               714             707              2  \n",
       "2021_08               727             727              2  \n",
       "2021_09               756             756              2  "
      ]
     },
     "execution_count": 19,
     "metadata": {},
     "output_type": "execute_result"
    }
   ],
   "source": [
    "unique_values_report(df_202010, df_202011, df_202012, df_202101, df_202102, df_202103,\n",
    "                     df_202104, df_202105, df_202106, df_202107, df_202108, df_202109)"
   ]
  },
  {
   "cell_type": "markdown",
   "id": "2b1de874",
   "metadata": {
    "papermill": {
     "duration": 0.057758,
     "end_time": "2022-04-06T23:18:50.533317",
     "exception": false,
     "start_time": "2022-04-06T23:18:50.475559",
     "status": "completed"
    },
    "tags": []
   },
   "source": [
    "* The number of unique values in the ride_id column is the same as the number of observation in their dataframe.\n",
    "* Some rows show unmatch number of observations between the name and id in the start or end station, or both."
   ]
  },
  {
   "cell_type": "markdown",
   "id": "bd49c81f",
   "metadata": {
    "papermill": {
     "duration": 0.057467,
     "end_time": "2022-04-06T23:18:50.648644",
     "exception": false,
     "start_time": "2022-04-06T23:18:50.591177",
     "status": "completed"
    },
    "tags": []
   },
   "source": [
    "### 2.4 Check for Null Values"
   ]
  },
  {
   "cell_type": "code",
   "execution_count": 20,
   "id": "dc32a550",
   "metadata": {
    "papermill": {
     "duration": 0.066893,
     "end_time": "2022-04-06T23:18:50.773419",
     "exception": false,
     "start_time": "2022-04-06T23:18:50.706526",
     "status": "completed"
    },
    "tags": []
   },
   "outputs": [],
   "source": [
    "def null_values_report(*dataframes):\n",
    "    report = []\n",
    "    names = []\n",
    "    \n",
    "    for df in dataframes:\n",
    "        count_null = df.isnull().sum()\n",
    "        names.append(df['file_name'][0])\n",
    "        \n",
    "        report.append(list(count_null.values)[:-1])  # [:-1] -> Exclude the last value (file_name)\n",
    "            \n",
    "    return pd.DataFrame(report, index=names, columns=dataframes[0].columns[:-1])"
   ]
  },
  {
   "cell_type": "code",
   "execution_count": 21,
   "id": "95c8cefc",
   "metadata": {
    "papermill": {
     "duration": 5.473474,
     "end_time": "2022-04-06T23:18:56.304614",
     "exception": false,
     "start_time": "2022-04-06T23:18:50.831140",
     "status": "completed"
    },
    "tags": []
   },
   "outputs": [
    {
     "data": {
      "text/html": [
       "<div>\n",
       "<style scoped>\n",
       "    .dataframe tbody tr th:only-of-type {\n",
       "        vertical-align: middle;\n",
       "    }\n",
       "\n",
       "    .dataframe tbody tr th {\n",
       "        vertical-align: top;\n",
       "    }\n",
       "\n",
       "    .dataframe thead th {\n",
       "        text-align: right;\n",
       "    }\n",
       "</style>\n",
       "<table border=\"1\" class=\"dataframe\">\n",
       "  <thead>\n",
       "    <tr style=\"text-align: right;\">\n",
       "      <th></th>\n",
       "      <th>ride_id</th>\n",
       "      <th>rideable_type</th>\n",
       "      <th>started_at</th>\n",
       "      <th>ended_at</th>\n",
       "      <th>start_station_name</th>\n",
       "      <th>start_station_id</th>\n",
       "      <th>end_station_name</th>\n",
       "      <th>end_station_id</th>\n",
       "      <th>start_lat</th>\n",
       "      <th>start_lng</th>\n",
       "      <th>end_lat</th>\n",
       "      <th>end_lng</th>\n",
       "      <th>member_casual</th>\n",
       "    </tr>\n",
       "  </thead>\n",
       "  <tbody>\n",
       "    <tr>\n",
       "      <th>2020_10</th>\n",
       "      <td>0</td>\n",
       "      <td>0</td>\n",
       "      <td>0</td>\n",
       "      <td>0</td>\n",
       "      <td>31198</td>\n",
       "      <td>31405</td>\n",
       "      <td>35631</td>\n",
       "      <td>35787</td>\n",
       "      <td>0</td>\n",
       "      <td>0</td>\n",
       "      <td>474</td>\n",
       "      <td>474</td>\n",
       "      <td>0</td>\n",
       "    </tr>\n",
       "    <tr>\n",
       "      <th>2020_11</th>\n",
       "      <td>0</td>\n",
       "      <td>0</td>\n",
       "      <td>0</td>\n",
       "      <td>0</td>\n",
       "      <td>24324</td>\n",
       "      <td>24434</td>\n",
       "      <td>26749</td>\n",
       "      <td>26826</td>\n",
       "      <td>0</td>\n",
       "      <td>0</td>\n",
       "      <td>284</td>\n",
       "      <td>284</td>\n",
       "      <td>0</td>\n",
       "    </tr>\n",
       "    <tr>\n",
       "      <th>2020_12</th>\n",
       "      <td>0</td>\n",
       "      <td>0</td>\n",
       "      <td>0</td>\n",
       "      <td>0</td>\n",
       "      <td>11699</td>\n",
       "      <td>11699</td>\n",
       "      <td>13237</td>\n",
       "      <td>13237</td>\n",
       "      <td>0</td>\n",
       "      <td>0</td>\n",
       "      <td>111</td>\n",
       "      <td>111</td>\n",
       "      <td>0</td>\n",
       "    </tr>\n",
       "    <tr>\n",
       "      <th>2021_01</th>\n",
       "      <td>0</td>\n",
       "      <td>0</td>\n",
       "      <td>0</td>\n",
       "      <td>0</td>\n",
       "      <td>8625</td>\n",
       "      <td>8625</td>\n",
       "      <td>10277</td>\n",
       "      <td>10277</td>\n",
       "      <td>0</td>\n",
       "      <td>0</td>\n",
       "      <td>103</td>\n",
       "      <td>103</td>\n",
       "      <td>0</td>\n",
       "    </tr>\n",
       "    <tr>\n",
       "      <th>2021_02</th>\n",
       "      <td>0</td>\n",
       "      <td>0</td>\n",
       "      <td>0</td>\n",
       "      <td>0</td>\n",
       "      <td>4046</td>\n",
       "      <td>4046</td>\n",
       "      <td>5358</td>\n",
       "      <td>5358</td>\n",
       "      <td>0</td>\n",
       "      <td>0</td>\n",
       "      <td>214</td>\n",
       "      <td>214</td>\n",
       "      <td>0</td>\n",
       "    </tr>\n",
       "    <tr>\n",
       "      <th>2021_03</th>\n",
       "      <td>0</td>\n",
       "      <td>0</td>\n",
       "      <td>0</td>\n",
       "      <td>0</td>\n",
       "      <td>14848</td>\n",
       "      <td>14848</td>\n",
       "      <td>16727</td>\n",
       "      <td>16727</td>\n",
       "      <td>0</td>\n",
       "      <td>0</td>\n",
       "      <td>167</td>\n",
       "      <td>167</td>\n",
       "      <td>0</td>\n",
       "    </tr>\n",
       "    <tr>\n",
       "      <th>2021_04</th>\n",
       "      <td>0</td>\n",
       "      <td>0</td>\n",
       "      <td>0</td>\n",
       "      <td>0</td>\n",
       "      <td>26056</td>\n",
       "      <td>26056</td>\n",
       "      <td>28174</td>\n",
       "      <td>28174</td>\n",
       "      <td>0</td>\n",
       "      <td>0</td>\n",
       "      <td>267</td>\n",
       "      <td>267</td>\n",
       "      <td>0</td>\n",
       "    </tr>\n",
       "    <tr>\n",
       "      <th>2021_05</th>\n",
       "      <td>0</td>\n",
       "      <td>0</td>\n",
       "      <td>0</td>\n",
       "      <td>0</td>\n",
       "      <td>53744</td>\n",
       "      <td>53744</td>\n",
       "      <td>58194</td>\n",
       "      <td>58194</td>\n",
       "      <td>0</td>\n",
       "      <td>0</td>\n",
       "      <td>452</td>\n",
       "      <td>452</td>\n",
       "      <td>0</td>\n",
       "    </tr>\n",
       "    <tr>\n",
       "      <th>2021_06</th>\n",
       "      <td>0</td>\n",
       "      <td>0</td>\n",
       "      <td>0</td>\n",
       "      <td>0</td>\n",
       "      <td>80093</td>\n",
       "      <td>80093</td>\n",
       "      <td>86387</td>\n",
       "      <td>86387</td>\n",
       "      <td>0</td>\n",
       "      <td>0</td>\n",
       "      <td>717</td>\n",
       "      <td>717</td>\n",
       "      <td>0</td>\n",
       "    </tr>\n",
       "    <tr>\n",
       "      <th>2021_07</th>\n",
       "      <td>0</td>\n",
       "      <td>0</td>\n",
       "      <td>0</td>\n",
       "      <td>0</td>\n",
       "      <td>87263</td>\n",
       "      <td>87262</td>\n",
       "      <td>93158</td>\n",
       "      <td>93158</td>\n",
       "      <td>0</td>\n",
       "      <td>0</td>\n",
       "      <td>731</td>\n",
       "      <td>731</td>\n",
       "      <td>0</td>\n",
       "    </tr>\n",
       "    <tr>\n",
       "      <th>2021_08</th>\n",
       "      <td>0</td>\n",
       "      <td>0</td>\n",
       "      <td>0</td>\n",
       "      <td>0</td>\n",
       "      <td>88458</td>\n",
       "      <td>88458</td>\n",
       "      <td>94115</td>\n",
       "      <td>94115</td>\n",
       "      <td>0</td>\n",
       "      <td>0</td>\n",
       "      <td>706</td>\n",
       "      <td>706</td>\n",
       "      <td>0</td>\n",
       "    </tr>\n",
       "    <tr>\n",
       "      <th>2021_09</th>\n",
       "      <td>0</td>\n",
       "      <td>0</td>\n",
       "      <td>0</td>\n",
       "      <td>0</td>\n",
       "      <td>93113</td>\n",
       "      <td>93111</td>\n",
       "      <td>99261</td>\n",
       "      <td>99261</td>\n",
       "      <td>0</td>\n",
       "      <td>0</td>\n",
       "      <td>595</td>\n",
       "      <td>595</td>\n",
       "      <td>0</td>\n",
       "    </tr>\n",
       "  </tbody>\n",
       "</table>\n",
       "</div>"
      ],
      "text/plain": [
       "         ride_id  rideable_type  started_at  ended_at  start_station_name  \\\n",
       "2020_10        0              0           0         0               31198   \n",
       "2020_11        0              0           0         0               24324   \n",
       "2020_12        0              0           0         0               11699   \n",
       "2021_01        0              0           0         0                8625   \n",
       "2021_02        0              0           0         0                4046   \n",
       "2021_03        0              0           0         0               14848   \n",
       "2021_04        0              0           0         0               26056   \n",
       "2021_05        0              0           0         0               53744   \n",
       "2021_06        0              0           0         0               80093   \n",
       "2021_07        0              0           0         0               87263   \n",
       "2021_08        0              0           0         0               88458   \n",
       "2021_09        0              0           0         0               93113   \n",
       "\n",
       "         start_station_id  end_station_name  end_station_id  start_lat  \\\n",
       "2020_10             31405             35631           35787          0   \n",
       "2020_11             24434             26749           26826          0   \n",
       "2020_12             11699             13237           13237          0   \n",
       "2021_01              8625             10277           10277          0   \n",
       "2021_02              4046              5358            5358          0   \n",
       "2021_03             14848             16727           16727          0   \n",
       "2021_04             26056             28174           28174          0   \n",
       "2021_05             53744             58194           58194          0   \n",
       "2021_06             80093             86387           86387          0   \n",
       "2021_07             87262             93158           93158          0   \n",
       "2021_08             88458             94115           94115          0   \n",
       "2021_09             93111             99261           99261          0   \n",
       "\n",
       "         start_lng  end_lat  end_lng  member_casual  \n",
       "2020_10          0      474      474              0  \n",
       "2020_11          0      284      284              0  \n",
       "2020_12          0      111      111              0  \n",
       "2021_01          0      103      103              0  \n",
       "2021_02          0      214      214              0  \n",
       "2021_03          0      167      167              0  \n",
       "2021_04          0      267      267              0  \n",
       "2021_05          0      452      452              0  \n",
       "2021_06          0      717      717              0  \n",
       "2021_07          0      731      731              0  \n",
       "2021_08          0      706      706              0  \n",
       "2021_09          0      595      595              0  "
      ]
     },
     "execution_count": 21,
     "metadata": {},
     "output_type": "execute_result"
    }
   ],
   "source": [
    "null_values_report(df_202010, df_202011, df_202012, df_202101, df_202102, df_202103,\n",
    "                   df_202104, df_202105, df_202106, df_202107, df_202108, df_202109)"
   ]
  },
  {
   "cell_type": "markdown",
   "id": "8ea825a6",
   "metadata": {
    "papermill": {
     "duration": 0.058312,
     "end_time": "2022-04-06T23:18:56.421715",
     "exception": false,
     "start_time": "2022-04-06T23:18:56.363403",
     "status": "completed"
    },
    "tags": []
   },
   "source": [
    "### 2.5 Check for duplicates values"
   ]
  },
  {
   "cell_type": "code",
   "execution_count": 22,
   "id": "09d52422",
   "metadata": {
    "papermill": {
     "duration": 0.068059,
     "end_time": "2022-04-06T23:18:56.549475",
     "exception": false,
     "start_time": "2022-04-06T23:18:56.481416",
     "status": "completed"
    },
    "tags": []
   },
   "outputs": [],
   "source": [
    "def check_duplicates_report(*dataframes):\n",
    "    result = []\n",
    "    names = []\n",
    "    \n",
    "    for df in dataframes:\n",
    "        names.append(df['file_name'][0])      \n",
    "        result.append(df.duplicated(subset='ride_id').any())\n",
    "\n",
    "    return pd.Series(result, index=names, name=dataframes[0].columns[0])"
   ]
  },
  {
   "cell_type": "code",
   "execution_count": 23,
   "id": "121052f0",
   "metadata": {
    "papermill": {
     "duration": 1.468396,
     "end_time": "2022-04-06T23:18:58.080786",
     "exception": false,
     "start_time": "2022-04-06T23:18:56.612390",
     "status": "completed"
    },
    "scrolled": true,
    "tags": []
   },
   "outputs": [
    {
     "data": {
      "text/plain": [
       "2020_10    False\n",
       "2020_11    False\n",
       "2020_12    False\n",
       "2021_01    False\n",
       "2021_02    False\n",
       "2021_03    False\n",
       "2021_04    False\n",
       "2021_05    False\n",
       "2021_06    False\n",
       "2021_07    False\n",
       "2021_08    False\n",
       "2021_09    False\n",
       "Name: ride_id, dtype: bool"
      ]
     },
     "execution_count": 23,
     "metadata": {},
     "output_type": "execute_result"
    }
   ],
   "source": [
    "check_duplicates_report(df_202010, df_202011, df_202012, df_202101, df_202102, df_202103,\n",
    "                        df_202104, df_202105, df_202106, df_202107, df_202108, df_202109)"
   ]
  },
  {
   "cell_type": "markdown",
   "id": "b0ca91e2",
   "metadata": {
    "papermill": {
     "duration": 0.05874,
     "end_time": "2022-04-06T23:18:58.199204",
     "exception": false,
     "start_time": "2022-04-06T23:18:58.140464",
     "status": "completed"
    },
    "tags": []
   },
   "source": [
    "## 3. Prepare Data for Analysis"
   ]
  },
  {
   "cell_type": "markdown",
   "id": "5c7790c6",
   "metadata": {
    "papermill": {
     "duration": 0.058808,
     "end_time": "2022-04-06T23:18:58.316994",
     "exception": false,
     "start_time": "2022-04-06T23:18:58.258186",
     "status": "completed"
    },
    "tags": []
   },
   "source": [
    "### 3.1 Combine Datasets"
   ]
  },
  {
   "cell_type": "code",
   "execution_count": 24,
   "id": "0e098c10",
   "metadata": {
    "papermill": {
     "duration": 2.128927,
     "end_time": "2022-04-06T23:19:00.504718",
     "exception": false,
     "start_time": "2022-04-06T23:18:58.375791",
     "status": "completed"
    },
    "scrolled": true,
    "tags": []
   },
   "outputs": [],
   "source": [
    "df = pd.concat([df_202010, df_202011, df_202012, df_202101, df_202102, df_202103, \n",
    "                df_202104, df_202105, df_202106, df_202107, df_202108, df_202109], \n",
    "                ignore_index=True)\n",
    "\n",
    "#print(\"Rows: {}\\nColumns: {}\".format(df.shape[0], df.shape[1]))\n",
    "#df.head()"
   ]
  },
  {
   "cell_type": "markdown",
   "id": "f201aec8",
   "metadata": {
    "papermill": {
     "duration": 0.059323,
     "end_time": "2022-04-06T23:19:00.623344",
     "exception": false,
     "start_time": "2022-04-06T23:19:00.564021",
     "status": "completed"
    },
    "tags": []
   },
   "source": [
    "### 3.2 Change Columns data type"
   ]
  },
  {
   "cell_type": "code",
   "execution_count": 25,
   "id": "3ede4d15",
   "metadata": {
    "papermill": {
     "duration": 4.335851,
     "end_time": "2022-04-06T23:19:05.018733",
     "exception": false,
     "start_time": "2022-04-06T23:19:00.682882",
     "status": "completed"
    },
    "tags": []
   },
   "outputs": [],
   "source": [
    "df = df.astype({'started_at': 'datetime64[ns]', 'ended_at': 'datetime64[ns]'})\n",
    "#df.dtypes"
   ]
  },
  {
   "cell_type": "markdown",
   "id": "000a172a",
   "metadata": {
    "papermill": {
     "duration": 0.061985,
     "end_time": "2022-04-06T23:19:05.144064",
     "exception": false,
     "start_time": "2022-04-06T23:19:05.082079",
     "status": "completed"
    },
    "tags": []
   },
   "source": [
    "#### 3.2.1 Remove observation where the end trip time is less than the start time"
   ]
  },
  {
   "cell_type": "code",
   "execution_count": 26,
   "id": "b9cd5bc5",
   "metadata": {
    "papermill": {
     "duration": 2.223027,
     "end_time": "2022-04-06T23:19:07.429057",
     "exception": false,
     "start_time": "2022-04-06T23:19:05.206030",
     "status": "completed"
    },
    "tags": []
   },
   "outputs": [],
   "source": [
    "df = df[df['started_at'] < df['ended_at']]"
   ]
  },
  {
   "cell_type": "markdown",
   "id": "1a3e2526",
   "metadata": {
    "papermill": {
     "duration": 0.058845,
     "end_time": "2022-04-06T23:19:07.548488",
     "exception": false,
     "start_time": "2022-04-06T23:19:07.489643",
     "status": "completed"
    },
    "tags": []
   },
   "source": [
    "### 3.3 Check for Duplicates in ride_id Column"
   ]
  },
  {
   "cell_type": "code",
   "execution_count": 27,
   "id": "1728d829",
   "metadata": {
    "papermill": {
     "duration": 3.29051,
     "end_time": "2022-04-06T23:19:10.898026",
     "exception": false,
     "start_time": "2022-04-06T23:19:07.607516",
     "status": "completed"
    },
    "tags": []
   },
   "outputs": [
    {
     "data": {
      "text/plain": [
       "False"
      ]
     },
     "execution_count": 27,
     "metadata": {},
     "output_type": "execute_result"
    }
   ],
   "source": [
    "df.duplicated(subset='ride_id').any()"
   ]
  },
  {
   "cell_type": "markdown",
   "id": "7e5365c8",
   "metadata": {
    "papermill": {
     "duration": 0.060025,
     "end_time": "2022-04-06T23:19:11.017913",
     "exception": false,
     "start_time": "2022-04-06T23:19:10.957888",
     "status": "completed"
    },
    "tags": []
   },
   "source": [
    "### 3.4 Compute Trip length"
   ]
  },
  {
   "cell_type": "code",
   "execution_count": 28,
   "id": "519c9fe2",
   "metadata": {
    "papermill": {
     "duration": 0.159569,
     "end_time": "2022-04-06T23:19:11.237430",
     "exception": false,
     "start_time": "2022-04-06T23:19:11.077861",
     "status": "completed"
    },
    "tags": []
   },
   "outputs": [],
   "source": [
    "df['trip_length'] = df['ended_at'] - df['started_at']"
   ]
  },
  {
   "cell_type": "markdown",
   "id": "189931c5",
   "metadata": {
    "papermill": {
     "duration": 0.059496,
     "end_time": "2022-04-06T23:19:11.357829",
     "exception": false,
     "start_time": "2022-04-06T23:19:11.298333",
     "status": "completed"
    },
    "tags": []
   },
   "source": [
    "#### 3.4.1 Summary"
   ]
  },
  {
   "cell_type": "code",
   "execution_count": 29,
   "id": "bb083da9",
   "metadata": {
    "papermill": {
     "duration": 0.319367,
     "end_time": "2022-04-06T23:19:11.736886",
     "exception": false,
     "start_time": "2022-04-06T23:19:11.417519",
     "status": "completed"
    },
    "tags": []
   },
   "outputs": [
    {
     "data": {
      "text/plain": [
       "count                      5132499\n",
       "mean     0 days 00:22:44.731441545\n",
       "std      0 days 02:58:16.942923873\n",
       "min                0 days 00:00:01\n",
       "25%                0 days 00:07:06\n",
       "50%                0 days 00:12:36\n",
       "75%                0 days 00:22:49\n",
       "max               38 days 20:24:09\n",
       "Name: trip_length, dtype: object"
      ]
     },
     "execution_count": 29,
     "metadata": {},
     "output_type": "execute_result"
    }
   ],
   "source": [
    "df['trip_length'].describe()"
   ]
  },
  {
   "cell_type": "markdown",
   "id": "ad5c1b74",
   "metadata": {
    "papermill": {
     "duration": 0.0598,
     "end_time": "2022-04-06T23:19:11.858843",
     "exception": false,
     "start_time": "2022-04-06T23:19:11.799043",
     "status": "completed"
    },
    "tags": []
   },
   "source": [
    "#### 3.4.2 Remove Outliers"
   ]
  },
  {
   "cell_type": "code",
   "execution_count": 30,
   "id": "be9ff15c",
   "metadata": {
    "papermill": {
     "duration": 0.204685,
     "end_time": "2022-04-06T23:19:12.125281",
     "exception": false,
     "start_time": "2022-04-06T23:19:11.920596",
     "status": "completed"
    },
    "tags": []
   },
   "outputs": [
    {
     "data": {
      "text/plain": [
       "count                         7889\n",
       "mean     1 days 10:24:44.672201799\n",
       "std      2 days 18:50:03.888877160\n",
       "min                0 days 09:17:45\n",
       "25%                0 days 14:07:05\n",
       "50%                0 days 21:54:42\n",
       "75%                1 days 00:59:54\n",
       "max               38 days 20:24:09\n",
       "Name: trip_length, dtype: object"
      ]
     },
     "execution_count": 30,
     "metadata": {},
     "output_type": "execute_result"
    }
   ],
   "source": [
    "# Convert trip_length time from timedelta to seconds, and compute Z-score\n",
    "z_score = stats.zscore(df['trip_length'].dt.total_seconds())\n",
    "\n",
    "# Summary of every z-score equal or greater than 3\n",
    "df[z_score >= 3]['trip_length'].describe()"
   ]
  },
  {
   "cell_type": "code",
   "execution_count": 31,
   "id": "75a2aba9",
   "metadata": {
    "papermill": {
     "duration": 1.58769,
     "end_time": "2022-04-06T23:19:13.772898",
     "exception": false,
     "start_time": "2022-04-06T23:19:12.185208",
     "status": "completed"
    },
    "tags": []
   },
   "outputs": [],
   "source": [
    "# Remove trip_length values greater than 9 hours and 17 minutes\n",
    "df = df[df['trip_length'] < timedelta(hours=9, minutes=17)]\n",
    "\n",
    "# Remove trip_length values less than 1 minute (they are considered 'false start')\n",
    "df = df[df['trip_length'] > timedelta(minutes=1)]"
   ]
  },
  {
   "cell_type": "markdown",
   "id": "e1cb7e5e",
   "metadata": {
    "papermill": {
     "duration": 0.060275,
     "end_time": "2022-04-06T23:19:13.892967",
     "exception": false,
     "start_time": "2022-04-06T23:19:13.832692",
     "status": "completed"
    },
    "tags": []
   },
   "source": [
    "### 3.5 Remove null values"
   ]
  },
  {
   "cell_type": "code",
   "execution_count": 32,
   "id": "66288c26",
   "metadata": {
    "papermill": {
     "duration": 7.298774,
     "end_time": "2022-04-06T23:19:21.251604",
     "exception": false,
     "start_time": "2022-04-06T23:19:13.952830",
     "status": "completed"
    },
    "tags": []
   },
   "outputs": [
    {
     "data": {
      "text/plain": [
       "ride_id                 0\n",
       "rideable_type           0\n",
       "started_at              0\n",
       "ended_at                0\n",
       "start_station_name      1\n",
       "start_station_id      242\n",
       "end_station_name        0\n",
       "end_station_id        177\n",
       "start_lat               0\n",
       "start_lng               0\n",
       "end_lat                 0\n",
       "end_lng                 0\n",
       "member_casual           0\n",
       "file_name               0\n",
       "trip_length             0\n",
       "dtype: int64"
      ]
     },
     "execution_count": 32,
     "metadata": {},
     "output_type": "execute_result"
    }
   ],
   "source": [
    "# Remove observations from stations that not have name and id\n",
    "df.dropna(subset=['start_station_name', 'start_station_id'], how='all', inplace=True)\n",
    "\n",
    "df.dropna(subset=['end_station_name', 'end_station_id'], how='all', inplace=True)\n",
    "\n",
    "# Check number of null values\n",
    "df.isnull().sum()"
   ]
  },
  {
   "cell_type": "markdown",
   "id": "28d97c8f",
   "metadata": {},
   "source": [
    "**Note**: Null values of start and end station id will be omitted because the column will be dropped."
   ]
  },
  {
   "cell_type": "markdown",
   "id": "b2df9156",
   "metadata": {
    "papermill": {
     "duration": 0.060521,
     "end_time": "2022-04-06T23:19:21.373852",
     "exception": false,
     "start_time": "2022-04-06T23:19:21.313331",
     "status": "completed"
    },
    "tags": []
   },
   "source": [
    "#### 3.5.1 Fill the start station missing name value"
   ]
  },
  {
   "cell_type": "code",
   "execution_count": 33,
   "id": "577acc27",
   "metadata": {
    "papermill": {
     "duration": 0.542476,
     "end_time": "2022-04-06T23:19:21.977162",
     "exception": false,
     "start_time": "2022-04-06T23:19:21.434686",
     "status": "completed"
    },
    "tags": []
   },
   "outputs": [
    {
     "data": {
      "text/html": [
       "<div>\n",
       "<style scoped>\n",
       "    .dataframe tbody tr th:only-of-type {\n",
       "        vertical-align: middle;\n",
       "    }\n",
       "\n",
       "    .dataframe tbody tr th {\n",
       "        vertical-align: top;\n",
       "    }\n",
       "\n",
       "    .dataframe thead th {\n",
       "        text-align: right;\n",
       "    }\n",
       "</style>\n",
       "<table border=\"1\" class=\"dataframe\">\n",
       "  <thead>\n",
       "    <tr style=\"text-align: right;\">\n",
       "      <th></th>\n",
       "      <th>ride_id</th>\n",
       "      <th>rideable_type</th>\n",
       "      <th>started_at</th>\n",
       "      <th>ended_at</th>\n",
       "      <th>start_station_name</th>\n",
       "      <th>start_station_id</th>\n",
       "      <th>end_station_name</th>\n",
       "      <th>end_station_id</th>\n",
       "      <th>start_lat</th>\n",
       "      <th>start_lng</th>\n",
       "      <th>end_lat</th>\n",
       "      <th>end_lng</th>\n",
       "      <th>member_casual</th>\n",
       "      <th>file_name</th>\n",
       "      <th>trip_length</th>\n",
       "    </tr>\n",
       "  </thead>\n",
       "  <tbody>\n",
       "    <tr>\n",
       "      <th>4448115</th>\n",
       "      <td>DE82A15026BA3056</td>\n",
       "      <td>electric_bike</td>\n",
       "      <td>2021-09-21 18:18:59</td>\n",
       "      <td>2021-09-21 18:21:48</td>\n",
       "      <td>NaN</td>\n",
       "      <td>20215</td>\n",
       "      <td>Hegewisch Metra Station</td>\n",
       "      <td>20215</td>\n",
       "      <td>41.6485</td>\n",
       "      <td>-87.546089</td>\n",
       "      <td>41.648589</td>\n",
       "      <td>-87.54625</td>\n",
       "      <td>casual</td>\n",
       "      <td>2021_09</td>\n",
       "      <td>0 days 00:02:49</td>\n",
       "    </tr>\n",
       "  </tbody>\n",
       "</table>\n",
       "</div>"
      ],
      "text/plain": [
       "                  ride_id  rideable_type          started_at  \\\n",
       "4448115  DE82A15026BA3056  electric_bike 2021-09-21 18:18:59   \n",
       "\n",
       "                   ended_at start_station_name start_station_id  \\\n",
       "4448115 2021-09-21 18:21:48                NaN            20215   \n",
       "\n",
       "                end_station_name end_station_id  start_lat  start_lng  \\\n",
       "4448115  Hegewisch Metra Station          20215    41.6485 -87.546089   \n",
       "\n",
       "           end_lat   end_lng member_casual file_name     trip_length  \n",
       "4448115  41.648589 -87.54625        casual   2021_09 0 days 00:02:49  "
      ]
     },
     "execution_count": 33,
     "metadata": {},
     "output_type": "execute_result"
    }
   ],
   "source": [
    "# Get the observation (row)\n",
    "df[df['start_station_name'].isnull()]"
   ]
  },
  {
   "cell_type": "code",
   "execution_count": 34,
   "id": "e18ca4a2",
   "metadata": {
    "papermill": {
     "duration": 1.393648,
     "end_time": "2022-04-06T23:19:23.433244",
     "exception": false,
     "start_time": "2022-04-06T23:19:22.039596",
     "status": "completed"
    },
    "tags": []
   },
   "outputs": [
    {
     "data": {
      "text/html": [
       "<div>\n",
       "<style scoped>\n",
       "    .dataframe tbody tr th:only-of-type {\n",
       "        vertical-align: middle;\n",
       "    }\n",
       "\n",
       "    .dataframe tbody tr th {\n",
       "        vertical-align: top;\n",
       "    }\n",
       "\n",
       "    .dataframe thead th {\n",
       "        text-align: right;\n",
       "    }\n",
       "</style>\n",
       "<table border=\"1\" class=\"dataframe\">\n",
       "  <thead>\n",
       "    <tr style=\"text-align: right;\">\n",
       "      <th></th>\n",
       "      <th>ride_id</th>\n",
       "      <th>rideable_type</th>\n",
       "      <th>started_at</th>\n",
       "      <th>ended_at</th>\n",
       "      <th>start_station_name</th>\n",
       "      <th>start_station_id</th>\n",
       "      <th>end_station_name</th>\n",
       "      <th>end_station_id</th>\n",
       "      <th>start_lat</th>\n",
       "      <th>start_lng</th>\n",
       "      <th>end_lat</th>\n",
       "      <th>end_lng</th>\n",
       "      <th>member_casual</th>\n",
       "      <th>file_name</th>\n",
       "      <th>trip_length</th>\n",
       "    </tr>\n",
       "  </thead>\n",
       "  <tbody>\n",
       "    <tr>\n",
       "      <th>4448115</th>\n",
       "      <td>DE82A15026BA3056</td>\n",
       "      <td>electric_bike</td>\n",
       "      <td>2021-09-21 18:18:59</td>\n",
       "      <td>2021-09-21 18:21:48</td>\n",
       "      <td>Hegewisch Metra Station</td>\n",
       "      <td>20215</td>\n",
       "      <td>Hegewisch Metra Station</td>\n",
       "      <td>20215</td>\n",
       "      <td>41.6485</td>\n",
       "      <td>-87.546089</td>\n",
       "      <td>41.648589</td>\n",
       "      <td>-87.54625</td>\n",
       "      <td>casual</td>\n",
       "      <td>2021_09</td>\n",
       "      <td>0 days 00:02:49</td>\n",
       "    </tr>\n",
       "  </tbody>\n",
       "</table>\n",
       "</div>"
      ],
      "text/plain": [
       "                  ride_id  rideable_type          started_at  \\\n",
       "4448115  DE82A15026BA3056  electric_bike 2021-09-21 18:18:59   \n",
       "\n",
       "                   ended_at       start_station_name start_station_id  \\\n",
       "4448115 2021-09-21 18:21:48  Hegewisch Metra Station            20215   \n",
       "\n",
       "                end_station_name end_station_id  start_lat  start_lng  \\\n",
       "4448115  Hegewisch Metra Station          20215    41.6485 -87.546089   \n",
       "\n",
       "           end_lat   end_lng member_casual file_name     trip_length  \n",
       "4448115  41.648589 -87.54625        casual   2021_09 0 days 00:02:49  "
      ]
     },
     "execution_count": 34,
     "metadata": {},
     "output_type": "execute_result"
    }
   ],
   "source": [
    "# Since the start and end station have the same id, we can use the value of the end station.\n",
    "record = df[df['start_station_name'].isnull()]\n",
    "station_name = record['end_station_name'].values[0]\n",
    "\n",
    "# Assign value to start station\n",
    "df.loc[4448115, 'start_station_name'] = station_name\n",
    "\n",
    "# Check value by ride_id\n",
    "df[df['ride_id'] == 'DE82A15026BA3056']"
   ]
  },
  {
   "cell_type": "markdown",
   "id": "9819fed9",
   "metadata": {
    "papermill": {
     "duration": 0.06175,
     "end_time": "2022-04-06T23:19:23.556376",
     "exception": false,
     "start_time": "2022-04-06T23:19:23.494626",
     "status": "completed"
    },
    "tags": []
   },
   "source": [
    "### 3.6 Compute Month and Weekday"
   ]
  },
  {
   "cell_type": "code",
   "execution_count": 35,
   "id": "8e991f9f",
   "metadata": {
    "papermill": {
     "duration": 2.132387,
     "end_time": "2022-04-06T23:19:25.750371",
     "exception": false,
     "start_time": "2022-04-06T23:19:23.617984",
     "status": "completed"
    },
    "tags": []
   },
   "outputs": [],
   "source": [
    "df['month'] = df['started_at'].dt.month\n",
    "\n",
    "# Set weekday as a categorical variable\n",
    "df['weekday'] = pd.Categorical(df['started_at'].dt.day_name(), \n",
    "                               categories = ['Monday', 'Tuesday', 'Wednesday', 'Thursday', 'Friday', 'Saturday', 'Sunday'],\n",
    "                               ordered=True)"
   ]
  },
  {
   "cell_type": "markdown",
   "id": "4656b37a",
   "metadata": {
    "papermill": {
     "duration": 0.062532,
     "end_time": "2022-04-06T23:19:25.874166",
     "exception": false,
     "start_time": "2022-04-06T23:19:25.811634",
     "status": "completed"
    },
    "tags": []
   },
   "source": [
    "### 3.7 Remove Columns"
   ]
  },
  {
   "cell_type": "code",
   "execution_count": 36,
   "id": "c7462277",
   "metadata": {
    "papermill": {
     "duration": 1.809174,
     "end_time": "2022-04-06T23:19:27.744730",
     "exception": false,
     "start_time": "2022-04-06T23:19:25.935556",
     "status": "completed"
    },
    "tags": []
   },
   "outputs": [
    {
     "data": {
      "text/html": [
       "<div>\n",
       "<style scoped>\n",
       "    .dataframe tbody tr th:only-of-type {\n",
       "        vertical-align: middle;\n",
       "    }\n",
       "\n",
       "    .dataframe tbody tr th {\n",
       "        vertical-align: top;\n",
       "    }\n",
       "\n",
       "    .dataframe thead th {\n",
       "        text-align: right;\n",
       "    }\n",
       "</style>\n",
       "<table border=\"1\" class=\"dataframe\">\n",
       "  <thead>\n",
       "    <tr style=\"text-align: right;\">\n",
       "      <th></th>\n",
       "      <th>ride_id</th>\n",
       "      <th>rideable_type</th>\n",
       "      <th>start_station_name</th>\n",
       "      <th>end_station_name</th>\n",
       "      <th>member_casual</th>\n",
       "      <th>trip_length</th>\n",
       "      <th>month</th>\n",
       "      <th>weekday</th>\n",
       "    </tr>\n",
       "  </thead>\n",
       "  <tbody>\n",
       "    <tr>\n",
       "      <th>0</th>\n",
       "      <td>ACB6B40CF5B9044C</td>\n",
       "      <td>electric_bike</td>\n",
       "      <td>Lakeview Ave &amp; Fullerton Pkwy</td>\n",
       "      <td>Rush St &amp; Hubbard St</td>\n",
       "      <td>casual</td>\n",
       "      <td>0 days 00:17:29</td>\n",
       "      <td>10</td>\n",
       "      <td>Saturday</td>\n",
       "    </tr>\n",
       "    <tr>\n",
       "      <th>1</th>\n",
       "      <td>DF450C72FD109C01</td>\n",
       "      <td>electric_bike</td>\n",
       "      <td>Southport Ave &amp; Waveland Ave</td>\n",
       "      <td>Kedzie Ave &amp; Milwaukee Ave</td>\n",
       "      <td>casual</td>\n",
       "      <td>0 days 00:14:08</td>\n",
       "      <td>10</td>\n",
       "      <td>Saturday</td>\n",
       "    </tr>\n",
       "    <tr>\n",
       "      <th>2</th>\n",
       "      <td>B6396B54A15AC0DF</td>\n",
       "      <td>electric_bike</td>\n",
       "      <td>Stony Island Ave &amp; 67th St</td>\n",
       "      <td>University Ave &amp; 57th St</td>\n",
       "      <td>casual</td>\n",
       "      <td>0 days 00:08:21</td>\n",
       "      <td>10</td>\n",
       "      <td>Saturday</td>\n",
       "    </tr>\n",
       "    <tr>\n",
       "      <th>3</th>\n",
       "      <td>44A4AEE261B9E854</td>\n",
       "      <td>electric_bike</td>\n",
       "      <td>Clark St &amp; Grace St</td>\n",
       "      <td>Broadway &amp; Sheridan Rd</td>\n",
       "      <td>casual</td>\n",
       "      <td>0 days 00:02:52</td>\n",
       "      <td>10</td>\n",
       "      <td>Saturday</td>\n",
       "    </tr>\n",
       "    <tr>\n",
       "      <th>4</th>\n",
       "      <td>10B7DD76A6A2EB95</td>\n",
       "      <td>electric_bike</td>\n",
       "      <td>Southport Ave &amp; Wrightwood Ave</td>\n",
       "      <td>Stave St &amp; Armitage Ave</td>\n",
       "      <td>casual</td>\n",
       "      <td>0 days 00:16:13</td>\n",
       "      <td>10</td>\n",
       "      <td>Saturday</td>\n",
       "    </tr>\n",
       "  </tbody>\n",
       "</table>\n",
       "</div>"
      ],
      "text/plain": [
       "            ride_id  rideable_type              start_station_name  \\\n",
       "0  ACB6B40CF5B9044C  electric_bike   Lakeview Ave & Fullerton Pkwy   \n",
       "1  DF450C72FD109C01  electric_bike    Southport Ave & Waveland Ave   \n",
       "2  B6396B54A15AC0DF  electric_bike      Stony Island Ave & 67th St   \n",
       "3  44A4AEE261B9E854  electric_bike             Clark St & Grace St   \n",
       "4  10B7DD76A6A2EB95  electric_bike  Southport Ave & Wrightwood Ave   \n",
       "\n",
       "             end_station_name member_casual     trip_length  month   weekday  \n",
       "0        Rush St & Hubbard St        casual 0 days 00:17:29     10  Saturday  \n",
       "1  Kedzie Ave & Milwaukee Ave        casual 0 days 00:14:08     10  Saturday  \n",
       "2    University Ave & 57th St        casual 0 days 00:08:21     10  Saturday  \n",
       "3      Broadway & Sheridan Rd        casual 0 days 00:02:52     10  Saturday  \n",
       "4     Stave St & Armitage Ave        casual 0 days 00:16:13     10  Saturday  "
      ]
     },
     "execution_count": 36,
     "metadata": {},
     "output_type": "execute_result"
    }
   ],
   "source": [
    "df.drop(columns=['started_at',\n",
    "                 'ended_at',\n",
    "                 'start_station_id',\n",
    "                 'end_station_id',\n",
    "                 'start_lat',\n",
    "                 'start_lng',\n",
    "                 'end_lat',\n",
    "                 'end_lng',\n",
    "                 'file_name'],\n",
    "       inplace=True)\n",
    "\n",
    "df.head()"
   ]
  },
  {
   "cell_type": "markdown",
   "id": "3fc5ab29",
   "metadata": {
    "papermill": {
     "duration": 0.061991,
     "end_time": "2022-04-06T23:19:27.868631",
     "exception": false,
     "start_time": "2022-04-06T23:19:27.806640",
     "status": "completed"
    },
    "tags": []
   },
   "source": [
    "### 3.8 Rename Columns"
   ]
  },
  {
   "cell_type": "code",
   "execution_count": 37,
   "id": "7494b9cf",
   "metadata": {
    "papermill": {
     "duration": 0.06993,
     "end_time": "2022-04-06T23:19:28.000374",
     "exception": false,
     "start_time": "2022-04-06T23:19:27.930444",
     "status": "completed"
    },
    "tags": []
   },
   "outputs": [],
   "source": [
    "df.rename(columns={'member_casual': 'membership_type',\n",
    "                   'rideable_type': 'bike_type',\n",
    "                   'start_station_name': 'start_station',\n",
    "                   'end_station_name': 'end_station'},\n",
    "         inplace=True)"
   ]
  },
  {
   "cell_type": "markdown",
   "id": "d0866fc2",
   "metadata": {
    "papermill": {
     "duration": 0.063316,
     "end_time": "2022-04-06T23:19:28.126564",
     "exception": false,
     "start_time": "2022-04-06T23:19:28.063248",
     "status": "completed"
    },
    "tags": []
   },
   "source": [
    "## 4. Analyse Data"
   ]
  },
  {
   "cell_type": "markdown",
   "id": "cdc87ff1",
   "metadata": {
    "papermill": {
     "duration": 0.062494,
     "end_time": "2022-04-06T23:19:28.252154",
     "exception": false,
     "start_time": "2022-04-06T23:19:28.189660",
     "status": "completed"
    },
    "tags": []
   },
   "source": [
    "### 4.1 Use of the service by membership type between octuber 2020 and september 2021"
   ]
  },
  {
   "cell_type": "code",
   "execution_count": 38,
   "id": "6f47ab40",
   "metadata": {
    "papermill": {
     "duration": 5.644172,
     "end_time": "2022-04-06T23:19:33.958596",
     "exception": false,
     "start_time": "2022-04-06T23:19:28.314424",
     "status": "completed"
    },
    "tags": []
   },
   "outputs": [
    {
     "data": {
      "text/html": [
       "<div>\n",
       "<style scoped>\n",
       "    .dataframe tbody tr th:only-of-type {\n",
       "        vertical-align: middle;\n",
       "    }\n",
       "\n",
       "    .dataframe tbody tr th {\n",
       "        vertical-align: top;\n",
       "    }\n",
       "\n",
       "    .dataframe thead th {\n",
       "        text-align: right;\n",
       "    }\n",
       "</style>\n",
       "<table border=\"1\" class=\"dataframe\">\n",
       "  <thead>\n",
       "    <tr style=\"text-align: right;\">\n",
       "      <th></th>\n",
       "      <th>count</th>\n",
       "      <th>mode_weekday</th>\n",
       "      <th>mode_bike_type</th>\n",
       "      <th>mean_trip_length</th>\n",
       "    </tr>\n",
       "    <tr>\n",
       "      <th>membership_type</th>\n",
       "      <th></th>\n",
       "      <th></th>\n",
       "      <th></th>\n",
       "      <th></th>\n",
       "    </tr>\n",
       "  </thead>\n",
       "  <tbody>\n",
       "    <tr>\n",
       "      <th>casual</th>\n",
       "      <td>1939201</td>\n",
       "      <td>Saturday</td>\n",
       "      <td>classic_bike</td>\n",
       "      <td>0 days 00:27:50.759131724</td>\n",
       "    </tr>\n",
       "    <tr>\n",
       "      <th>member</th>\n",
       "      <td>2350846</td>\n",
       "      <td>Wednesday</td>\n",
       "      <td>classic_bike</td>\n",
       "      <td>0 days 00:13:42.232457166</td>\n",
       "    </tr>\n",
       "  </tbody>\n",
       "</table>\n",
       "</div>"
      ],
      "text/plain": [
       "                   count mode_weekday mode_bike_type          mean_trip_length\n",
       "membership_type                                                               \n",
       "casual           1939201     Saturday   classic_bike 0 days 00:27:50.759131724\n",
       "member           2350846    Wednesday   classic_bike 0 days 00:13:42.232457166"
      ]
     },
     "execution_count": 38,
     "metadata": {},
     "output_type": "execute_result"
    }
   ],
   "source": [
    "temp = df.groupby('membership_type').agg({'ride_id': pd.Series.nunique, \n",
    "                                          'weekday': pd.Series.mode, \n",
    "                                          'bike_type':pd.Series.mode,\n",
    "                                          'trip_length': pd.Series.mean})\n",
    "\n",
    "temp.rename(columns={'ride_id': 'count',\n",
    "                     'weekday': 'mode_weekday',\n",
    "                     'bike_type': 'mode_bike_type',\n",
    "                     'trip_length': 'mean_trip_length'})"
   ]
  },
  {
   "cell_type": "markdown",
   "id": "ad4b99c6",
   "metadata": {
    "papermill": {
     "duration": 0.062515,
     "end_time": "2022-04-06T23:19:34.083981",
     "exception": false,
     "start_time": "2022-04-06T23:19:34.021466",
     "status": "completed"
    },
    "tags": []
   },
   "source": [
    "#### 4.1.1 Percentage"
   ]
  },
  {
   "cell_type": "code",
   "execution_count": 39,
   "id": "49fb1932",
   "metadata": {
    "papermill": {
     "duration": 0.747669,
     "end_time": "2022-04-06T23:19:34.894026",
     "exception": false,
     "start_time": "2022-04-06T23:19:34.146357",
     "status": "completed"
    },
    "tags": []
   },
   "outputs": [
    {
     "data": {
      "text/plain": [
       "member    0.547977\n",
       "casual    0.452023\n",
       "Name: membership_type, dtype: float64"
      ]
     },
     "execution_count": 39,
     "metadata": {},
     "output_type": "execute_result"
    }
   ],
   "source": [
    "# Percentage of use\n",
    "df['membership_type'].value_counts(normalize=True)"
   ]
  },
  {
   "cell_type": "markdown",
   "id": "e4a78b65",
   "metadata": {
    "papermill": {
     "duration": 0.063013,
     "end_time": "2022-04-06T23:19:35.019693",
     "exception": false,
     "start_time": "2022-04-06T23:19:34.956680",
     "status": "completed"
    },
    "tags": []
   },
   "source": [
    "### 4.2 Weekdays service use by membership type"
   ]
  },
  {
   "cell_type": "code",
   "execution_count": 40,
   "id": "367c019a",
   "metadata": {
    "papermill": {
     "duration": 5.481355,
     "end_time": "2022-04-06T23:19:40.565458",
     "exception": false,
     "start_time": "2022-04-06T23:19:35.084103",
     "status": "completed"
    },
    "tags": []
   },
   "outputs": [
    {
     "data": {
      "text/html": [
       "<div>\n",
       "<style scoped>\n",
       "    .dataframe tbody tr th:only-of-type {\n",
       "        vertical-align: middle;\n",
       "    }\n",
       "\n",
       "    .dataframe tbody tr th {\n",
       "        vertical-align: top;\n",
       "    }\n",
       "\n",
       "    .dataframe thead th {\n",
       "        text-align: right;\n",
       "    }\n",
       "</style>\n",
       "<table border=\"1\" class=\"dataframe\">\n",
       "  <thead>\n",
       "    <tr style=\"text-align: right;\">\n",
       "      <th></th>\n",
       "      <th></th>\n",
       "      <th>count</th>\n",
       "      <th>mode_bike_type</th>\n",
       "      <th>mean_trip_length</th>\n",
       "    </tr>\n",
       "    <tr>\n",
       "      <th>membership_type</th>\n",
       "      <th>weekday</th>\n",
       "      <th></th>\n",
       "      <th></th>\n",
       "      <th></th>\n",
       "    </tr>\n",
       "  </thead>\n",
       "  <tbody>\n",
       "    <tr>\n",
       "      <th rowspan=\"7\" valign=\"top\">casual</th>\n",
       "      <th>Monday</th>\n",
       "      <td>216312</td>\n",
       "      <td>classic_bike</td>\n",
       "      <td>0 days 00:28:14.630080624</td>\n",
       "    </tr>\n",
       "    <tr>\n",
       "      <th>Tuesday</th>\n",
       "      <td>200949</td>\n",
       "      <td>classic_bike</td>\n",
       "      <td>0 days 00:25:19.245276164</td>\n",
       "    </tr>\n",
       "    <tr>\n",
       "      <th>Wednesday</th>\n",
       "      <td>206058</td>\n",
       "      <td>classic_bike</td>\n",
       "      <td>0 days 00:24:18.488503236</td>\n",
       "    </tr>\n",
       "    <tr>\n",
       "      <th>Thursday</th>\n",
       "      <td>219854</td>\n",
       "      <td>classic_bike</td>\n",
       "      <td>0 days 00:23:45.367193683</td>\n",
       "    </tr>\n",
       "    <tr>\n",
       "      <th>Friday</th>\n",
       "      <td>275174</td>\n",
       "      <td>classic_bike</td>\n",
       "      <td>0 days 00:25:47.826571551</td>\n",
       "    </tr>\n",
       "    <tr>\n",
       "      <th>Saturday</th>\n",
       "      <td>443908</td>\n",
       "      <td>classic_bike</td>\n",
       "      <td>0 days 00:30:11.868022202</td>\n",
       "    </tr>\n",
       "    <tr>\n",
       "      <th>Sunday</th>\n",
       "      <td>376946</td>\n",
       "      <td>classic_bike</td>\n",
       "      <td>0 days 00:32:00.561289946</td>\n",
       "    </tr>\n",
       "    <tr>\n",
       "      <th rowspan=\"7\" valign=\"top\">member</th>\n",
       "      <th>Monday</th>\n",
       "      <td>319123</td>\n",
       "      <td>classic_bike</td>\n",
       "      <td>0 days 00:13:11.790162413</td>\n",
       "    </tr>\n",
       "    <tr>\n",
       "      <th>Tuesday</th>\n",
       "      <td>346408</td>\n",
       "      <td>classic_bike</td>\n",
       "      <td>0 days 00:12:54.802322694</td>\n",
       "    </tr>\n",
       "    <tr>\n",
       "      <th>Wednesday</th>\n",
       "      <td>360988</td>\n",
       "      <td>classic_bike</td>\n",
       "      <td>0 days 00:12:58.527128325</td>\n",
       "    </tr>\n",
       "    <tr>\n",
       "      <th>Thursday</th>\n",
       "      <td>356902</td>\n",
       "      <td>classic_bike</td>\n",
       "      <td>0 days 00:12:52.558534275</td>\n",
       "    </tr>\n",
       "    <tr>\n",
       "      <th>Friday</th>\n",
       "      <td>340651</td>\n",
       "      <td>classic_bike</td>\n",
       "      <td>0 days 00:13:21.726250620</td>\n",
       "    </tr>\n",
       "    <tr>\n",
       "      <th>Saturday</th>\n",
       "      <td>336250</td>\n",
       "      <td>classic_bike</td>\n",
       "      <td>0 days 00:15:19.096844609</td>\n",
       "    </tr>\n",
       "    <tr>\n",
       "      <th>Sunday</th>\n",
       "      <td>290524</td>\n",
       "      <td>classic_bike</td>\n",
       "      <td>0 days 00:15:39.488331428</td>\n",
       "    </tr>\n",
       "  </tbody>\n",
       "</table>\n",
       "</div>"
      ],
      "text/plain": [
       "                            count mode_bike_type          mean_trip_length\n",
       "membership_type weekday                                                   \n",
       "casual          Monday     216312   classic_bike 0 days 00:28:14.630080624\n",
       "                Tuesday    200949   classic_bike 0 days 00:25:19.245276164\n",
       "                Wednesday  206058   classic_bike 0 days 00:24:18.488503236\n",
       "                Thursday   219854   classic_bike 0 days 00:23:45.367193683\n",
       "                Friday     275174   classic_bike 0 days 00:25:47.826571551\n",
       "                Saturday   443908   classic_bike 0 days 00:30:11.868022202\n",
       "                Sunday     376946   classic_bike 0 days 00:32:00.561289946\n",
       "member          Monday     319123   classic_bike 0 days 00:13:11.790162413\n",
       "                Tuesday    346408   classic_bike 0 days 00:12:54.802322694\n",
       "                Wednesday  360988   classic_bike 0 days 00:12:58.527128325\n",
       "                Thursday   356902   classic_bike 0 days 00:12:52.558534275\n",
       "                Friday     340651   classic_bike 0 days 00:13:21.726250620\n",
       "                Saturday   336250   classic_bike 0 days 00:15:19.096844609\n",
       "                Sunday     290524   classic_bike 0 days 00:15:39.488331428"
      ]
     },
     "execution_count": 40,
     "metadata": {},
     "output_type": "execute_result"
    }
   ],
   "source": [
    "temp = df.groupby(['membership_type', 'weekday']).agg({'ride_id': pd.Series.nunique, \n",
    "                                                       'bike_type':pd.Series.mode,\n",
    "                                                       'trip_length': pd.Series.mean})\n",
    "\n",
    "# Is made inplace, because the dataframe will be used for plotting\n",
    "temp.rename(columns={'ride_id': 'count',\n",
    "                     'bike_type': 'mode_bike_type',\n",
    "                     'trip_length': 'mean_trip_length'},\n",
    "           inplace=True)\n",
    "\n",
    "# Display the dataframe\n",
    "temp"
   ]
  },
  {
   "cell_type": "markdown",
   "id": "21d6f18c",
   "metadata": {
    "papermill": {
     "duration": 0.063386,
     "end_time": "2022-04-06T23:19:40.692261",
     "exception": false,
     "start_time": "2022-04-06T23:19:40.628875",
     "status": "completed"
    },
    "tags": []
   },
   "source": [
    "#### 4.2.1 Graph"
   ]
  },
  {
   "cell_type": "code",
   "execution_count": 41,
   "id": "470157f7",
   "metadata": {
    "papermill": {
     "duration": 0.07359,
     "end_time": "2022-04-06T23:19:40.829121",
     "exception": false,
     "start_time": "2022-04-06T23:19:40.755531",
     "status": "completed"
    },
    "tags": []
   },
   "outputs": [],
   "source": [
    "# Compute the mean trip length in minutes\n",
    "temp['mean_trip_length_in_minutes'] = temp['mean_trip_length'].dt.total_seconds() / 60\n",
    "\n",
    "# Reset index, to avoid working with multi-level index\n",
    "temp.reset_index(inplace=True)"
   ]
  },
  {
   "cell_type": "code",
   "execution_count": 42,
   "id": "197becc7",
   "metadata": {
    "papermill": {
     "duration": 0.665915,
     "end_time": "2022-04-06T23:19:41.558342",
     "exception": false,
     "start_time": "2022-04-06T23:19:40.892427",
     "status": "completed"
    },
    "tags": []
   },
   "outputs": [
    {
     "data": {
      "image/png": "[encoded data removed]",
      "text/plain": [
       "<Figure size 720x720 with 2 Axes>"
      ]
     },
     "metadata": {
      "needs_background": "light"
     },
     "output_type": "display_data"
    }
   ],
   "source": [
    "\n",
    "plt.figure(figsize=(10, 10), tight_layout=True)\n",
    "\n",
    "# First Subplot\n",
    "plt.subplot(2, 1, 1)\n",
    "sns.barplot(data=temp, x='weekday', y='count', hue='membership_type')\n",
    "plt.gca().set_title('Total number of user by weekdays', fontsize=16)\n",
    "plt.gca().set_xlabel('Weekdays', fontsize=12, labelpad=10)\n",
    "plt.gca().set_ylabel('Number of Users', fontsize=12, labelpad=10)\n",
    "\n",
    "# set legend name and place it outside top right corner of plot\n",
    "plt.legend(bbox_to_anchor=(1, 1), loc='upper left', borderaxespad=0, title='Membership Type')\n",
    "\n",
    "# Second Subplot\n",
    "plt.subplot(2, 1, 2)\n",
    "sns.lineplot(data=temp, x='weekday', y='mean_trip_length_in_minutes', hue='membership_type')\n",
    "plt.gca().set_title('Mean trip length by weekdays', fontsize=16)\n",
    "plt.gca().set_xlabel('Weekdays', fontsize=12, labelpad=10)\n",
    "plt.gca().set_ylabel('Mean Trip Length in Minutes', fontsize=12, labelpad=10)\n",
    "\n",
    "# set legend name and place it outside top right corner of plot\n",
    "plt.legend(bbox_to_anchor=(1, 1), loc='upper left', borderaxespad=0, title='Membership Type')\n",
    "\n",
    "# Separation between subplots\n",
    "plt.gcf().subplots_adjust(hspace=20)\n",
    "\n",
    "# remove the frame of the chart\n",
    "sns.despine()"
   ]
  },
  {
   "cell_type": "markdown",
   "id": "917afffa",
   "metadata": {
    "papermill": {
     "duration": 0.064588,
     "end_time": "2022-04-06T23:19:41.687987",
     "exception": false,
     "start_time": "2022-04-06T23:19:41.623399",
     "status": "completed"
    },
    "tags": []
   },
   "source": [
    "### 4.3 Bike type use by membership type"
   ]
  },
  {
   "cell_type": "code",
   "execution_count": 43,
   "id": "2b80f81b",
   "metadata": {
    "papermill": {
     "duration": 3.567848,
     "end_time": "2022-04-06T23:19:45.320471",
     "exception": false,
     "start_time": "2022-04-06T23:19:41.752623",
     "status": "completed"
    },
    "tags": []
   },
   "outputs": [
    {
     "data": {
      "text/html": [
       "<div>\n",
       "<style scoped>\n",
       "    .dataframe tbody tr th:only-of-type {\n",
       "        vertical-align: middle;\n",
       "    }\n",
       "\n",
       "    .dataframe tbody tr th {\n",
       "        vertical-align: top;\n",
       "    }\n",
       "\n",
       "    .dataframe thead th {\n",
       "        text-align: right;\n",
       "    }\n",
       "</style>\n",
       "<table border=\"1\" class=\"dataframe\">\n",
       "  <thead>\n",
       "    <tr style=\"text-align: right;\">\n",
       "      <th></th>\n",
       "      <th></th>\n",
       "      <th>count</th>\n",
       "      <th>mean_trip_length</th>\n",
       "    </tr>\n",
       "    <tr>\n",
       "      <th>membership_type</th>\n",
       "      <th>bike_type</th>\n",
       "      <th></th>\n",
       "      <th></th>\n",
       "    </tr>\n",
       "  </thead>\n",
       "  <tbody>\n",
       "    <tr>\n",
       "      <th rowspan=\"3\" valign=\"top\">casual</th>\n",
       "      <th>classic_bike</th>\n",
       "      <td>1102987</td>\n",
       "      <td>0 days 00:25:37.040989603</td>\n",
       "    </tr>\n",
       "    <tr>\n",
       "      <th>docked_bike</th>\n",
       "      <td>400606</td>\n",
       "      <td>0 days 00:41:23.182603355</td>\n",
       "    </tr>\n",
       "    <tr>\n",
       "      <th>electric_bike</th>\n",
       "      <td>435608</td>\n",
       "      <td>0 days 00:21:02.198350351</td>\n",
       "    </tr>\n",
       "    <tr>\n",
       "      <th rowspan=\"3\" valign=\"top\">member</th>\n",
       "      <th>classic_bike</th>\n",
       "      <td>1602808</td>\n",
       "      <td>0 days 00:13:55.366403212</td>\n",
       "    </tr>\n",
       "    <tr>\n",
       "      <th>docked_bike</th>\n",
       "      <td>262986</td>\n",
       "      <td>0 days 00:13:59.739792232</td>\n",
       "    </tr>\n",
       "    <tr>\n",
       "      <th>electric_bike</th>\n",
       "      <td>485052</td>\n",
       "      <td>0 days 00:12:49.340441849</td>\n",
       "    </tr>\n",
       "  </tbody>\n",
       "</table>\n",
       "</div>"
      ],
      "text/plain": [
       "                                 count          mean_trip_length\n",
       "membership_type bike_type                                       \n",
       "casual          classic_bike   1102987 0 days 00:25:37.040989603\n",
       "                docked_bike     400606 0 days 00:41:23.182603355\n",
       "                electric_bike   435608 0 days 00:21:02.198350351\n",
       "member          classic_bike   1602808 0 days 00:13:55.366403212\n",
       "                docked_bike     262986 0 days 00:13:59.739792232\n",
       "                electric_bike   485052 0 days 00:12:49.340441849"
      ]
     },
     "execution_count": 43,
     "metadata": {},
     "output_type": "execute_result"
    }
   ],
   "source": [
    "temp = df.groupby(['membership_type', 'bike_type']).agg({'ride_id': pd.Series.nunique, \n",
    "                                                         'trip_length': pd.Series.mean})\n",
    "\n",
    "temp.rename(columns={'ride_id': 'count', 'trip_length': 'mean_trip_length'},\n",
    "                    inplace=True)\n",
    "\n",
    "temp"
   ]
  },
  {
   "cell_type": "code",
   "execution_count": 44,
   "id": "6799c0c2",
   "metadata": {},
   "outputs": [],
   "source": [
    "# Compute the mean trip length in minutes\n",
    "temp['mean_trip_length_in_minutes'] = temp['mean_trip_length'].dt.total_seconds() / 60\n",
    "\n",
    "# Reset index, to avoid working with multi-level index\n",
    "temp.reset_index(inplace=True)"
   ]
  },
  {
   "cell_type": "markdown",
   "id": "6fb6e469",
   "metadata": {
    "papermill": {
     "duration": 0.064954,
     "end_time": "2022-04-06T23:19:45.450761",
     "exception": false,
     "start_time": "2022-04-06T23:19:45.385807",
     "status": "completed"
    },
    "tags": []
   },
   "source": [
    "#### 4.3.1 Graph"
   ]
  },
  {
   "cell_type": "code",
   "execution_count": 45,
   "id": "ca5dac44",
   "metadata": {
    "papermill": {
     "duration": 9.085789,
     "end_time": "2022-04-06T23:19:54.602032",
     "exception": false,
     "start_time": "2022-04-06T23:19:45.516243",
     "status": "completed"
    },
    "tags": []
   },
   "outputs": [
    {
     "data": {
      "image/png": "[encoded data removed]",
      "text/plain": [
       "<Figure size 720x720 with 2 Axes>"
      ]
     },
     "metadata": {
      "needs_background": "light"
     },
     "output_type": "display_data"
    }
   ],
   "source": [
    "plt.figure(figsize=(10, 10), tight_layout=True)\n",
    "\n",
    "# First Subplot\n",
    "plt.subplot(2, 1, 1)\n",
    "sns.countplot(data=df, x='bike_type', hue='membership_type')\n",
    "\n",
    "plt.gca().set_title('Total Number of User by Bike Type')\n",
    "plt.gca().set_xlabel('Divvy Bike Type', labelpad=10)\n",
    "plt.gca().set_ylabel('Total number of Users (in millions)')\n",
    "\n",
    "# set legend name and place it outside top right corner of plot\n",
    "plt.legend(bbox_to_anchor=(1, 1), loc='upper left', borderaxespad=0, title='Membership Type')\n",
    "\n",
    "# remove the frame of the chart\n",
    "sns.despine()\n",
    "\n",
    "# Second Subplot\n",
    "plt.subplot(2, 1, 2)\n",
    "sns.barplot(data=temp, x='bike_type', y='mean_trip_length_in_minutes', hue='membership_type')\n",
    "\n",
    "plt.gca().set_title('Mean Trip Length by Bike Type')\n",
    "plt.gca().set_xlabel('Divvy Bike Type', labelpad=10)\n",
    "plt.gca().set_ylabel('Mean Trip Length in Minutes')\n",
    "\n",
    "# set legend name and place it outside top right corner of plot\n",
    "plt.legend(bbox_to_anchor=(1, 1), loc='upper left', borderaxespad=0, title='Membership Type')\n",
    "\n",
    "# remove the frame of the chart\n",
    "sns.despine()"
   ]
  },
  {
   "cell_type": "markdown",
   "id": "3f96b4c0",
   "metadata": {
    "papermill": {
     "duration": 0.06599,
     "end_time": "2022-04-06T23:19:54.734622",
     "exception": false,
     "start_time": "2022-04-06T23:19:54.668632",
     "status": "completed"
    },
    "tags": []
   },
   "source": [
    "### 4.4 Monthly service use by membership type"
   ]
  },
  {
   "cell_type": "code",
   "execution_count": 46,
   "id": "07ea5608",
   "metadata": {
    "papermill": {
     "duration": 2.757244,
     "end_time": "2022-04-06T23:19:57.558395",
     "exception": false,
     "start_time": "2022-04-06T23:19:54.801151",
     "status": "completed"
    },
    "tags": []
   },
   "outputs": [],
   "source": [
    "temp = df.groupby(['membership_type', 'month']).agg({'ride_id': pd.Series.nunique,\n",
    "                                                     'trip_length': pd.Series.mean}).reset_index()\n",
    "\n",
    "temp['mean_triṕ_length_in_seconds'] = temp['trip_length'].dt.total_seconds()"
   ]
  },
  {
   "cell_type": "code",
   "execution_count": 47,
   "id": "967de599",
   "metadata": {
    "papermill": {
     "duration": 0.642597,
     "end_time": "2022-04-06T23:19:58.267631",
     "exception": false,
     "start_time": "2022-04-06T23:19:57.625034",
     "status": "completed"
    },
    "tags": []
   },
   "outputs": [
    {
     "data": {
      "image/png": "[encoded data removed]",
      "text/plain": [
       "<Figure size 720x720 with 2 Axes>"
      ]
     },
     "metadata": {
      "needs_background": "light"
     },
     "output_type": "display_data"
    }
   ],
   "source": [
    "months = ['', 'January', 'February', 'March', 'April', 'May', 'June', 'July', \n",
    "          'August', 'September', 'October', 'November', 'December']\n",
    "\n",
    "plt.figure(figsize=(10, 10), tight_layout=True)\n",
    "\n",
    "# First Subplot\n",
    "plt.subplot(2, 1, 1)\n",
    "sns.lineplot(data=temp, x='month', y='ride_id', hue='membership_type', estimator=None)\n",
    "plt.gca().set_title('Total Number of User by Months', fontsize=16)\n",
    "plt.gca().set_xlabel('Months', fontsize=12, labelpad=10)\n",
    "plt.gca().set_ylabel('Number of Users', fontsize=12, labelpad=10)\n",
    "\n",
    "# Set x tick labels\n",
    "plt.gca().set_xticks(range(0, 13))\n",
    "plt.gca().set_xticklabels(labels=months)\n",
    "plt.xticks(rotation=80)\n",
    "\n",
    "# set legend name and place it outside top right corner of plot\n",
    "plt.legend(bbox_to_anchor=(1, 1), loc='upper left', borderaxespad=0, title='Membership Type')\n",
    "\n",
    "# Second Subplot\n",
    "plt.subplot(2, 1, 2)\n",
    "sns.lineplot(data=temp, x='month', y='mean_triṕ_length_in_seconds', hue='membership_type')\n",
    "plt.gca().set_title('Mean Trip Length by Months', fontsize=16)\n",
    "plt.gca().set_xlabel('Months', fontsize=12, labelpad=10)\n",
    "plt.gca().set_ylabel('Mean Trip Length in Seconds', fontsize=12, labelpad=10)\n",
    "\n",
    "# Set x tick labels\n",
    "plt.gca().set_xticks(range(0, 13))\n",
    "plt.gca().set_xticklabels(labels=months, rotation=80)\n",
    "\n",
    "# set legend name and place it outside top right corner of plot\n",
    "plt.legend(bbox_to_anchor=(1, 1), loc='upper left', borderaxespad=0, title='Membership Type')\n",
    "\n",
    "# Separation between subplots\n",
    "plt.gcf().subplots_adjust(hspace=20)\n",
    "\n",
    "# remove the top and right frame of the chart\n",
    "sns.despine()"
   ]
  },
  {
   "cell_type": "markdown",
   "id": "c78569b5",
   "metadata": {
    "papermill": {
     "duration": 0.068396,
     "end_time": "2022-04-06T23:19:58.405181",
     "exception": false,
     "start_time": "2022-04-06T23:19:58.336785",
     "status": "completed"
    },
    "tags": []
   },
   "source": [
    "### 4.5 Top 10 most frequent routes by membership type"
   ]
  },
  {
   "cell_type": "code",
   "execution_count": 48,
   "id": "22c68339",
   "metadata": {
    "execution": {
     "iopub.execute_input": "2022-04-06T23:19:58.554249Z",
     "iopub.status.busy": "2022-04-06T23:19:58.553423Z",
     "iopub.status.idle": "2022-04-06T23:20:20.404091Z",
     "shell.execute_reply": "2022-04-06T23:20:20.404718Z",
     "shell.execute_reply.started": "2022-04-06T23:16:27.543237Z"
    },
    "papermill": {
     "duration": 21.931012,
     "end_time": "2022-04-06T23:20:20.405118",
     "exception": false,
     "start_time": "2022-04-06T23:19:58.474106",
     "status": "completed"
    },
    "tags": []
   },
   "outputs": [
    {
     "data": {
      "text/html": [
       "<div>\n",
       "<style scoped>\n",
       "    .dataframe tbody tr th:only-of-type {\n",
       "        vertical-align: middle;\n",
       "    }\n",
       "\n",
       "    .dataframe tbody tr th {\n",
       "        vertical-align: top;\n",
       "    }\n",
       "\n",
       "    .dataframe thead th {\n",
       "        text-align: right;\n",
       "    }\n",
       "</style>\n",
       "<table border=\"1\" class=\"dataframe\">\n",
       "  <thead>\n",
       "    <tr style=\"text-align: right;\">\n",
       "      <th></th>\n",
       "      <th></th>\n",
       "      <th></th>\n",
       "      <th>count</th>\n",
       "    </tr>\n",
       "    <tr>\n",
       "      <th>membership_type</th>\n",
       "      <th>start_station</th>\n",
       "      <th>end_station</th>\n",
       "      <th></th>\n",
       "    </tr>\n",
       "  </thead>\n",
       "  <tbody>\n",
       "    <tr>\n",
       "      <th rowspan=\"10\" valign=\"top\">casual</th>\n",
       "      <th>Streeter Dr &amp; Grand Ave</th>\n",
       "      <th>Streeter Dr &amp; Grand Ave</th>\n",
       "      <td>10559</td>\n",
       "    </tr>\n",
       "    <tr>\n",
       "      <th>Millennium Park</th>\n",
       "      <th>Millennium Park</th>\n",
       "      <td>5815</td>\n",
       "    </tr>\n",
       "    <tr>\n",
       "      <th>Michigan Ave &amp; Oak St</th>\n",
       "      <th>Michigan Ave &amp; Oak St</th>\n",
       "      <td>5569</td>\n",
       "    </tr>\n",
       "    <tr>\n",
       "      <th>Lake Shore Dr &amp; Monroe St</th>\n",
       "      <th>Lake Shore Dr &amp; Monroe St</th>\n",
       "      <td>5534</td>\n",
       "    </tr>\n",
       "    <tr>\n",
       "      <th>Buckingham Fountain</th>\n",
       "      <th>Buckingham Fountain</th>\n",
       "      <td>3507</td>\n",
       "    </tr>\n",
       "    <tr>\n",
       "      <th>Theater on the Lake</th>\n",
       "      <th>Theater on the Lake</th>\n",
       "      <td>3084</td>\n",
       "    </tr>\n",
       "    <tr>\n",
       "      <th>Lake Shore Dr &amp; Monroe St</th>\n",
       "      <th>Streeter Dr &amp; Grand Ave</th>\n",
       "      <td>3050</td>\n",
       "    </tr>\n",
       "    <tr>\n",
       "      <th>Streeter Dr &amp; Grand Ave</th>\n",
       "      <th>Millennium Park</th>\n",
       "      <td>2957</td>\n",
       "    </tr>\n",
       "    <tr>\n",
       "      <th>Indiana Ave &amp; Roosevelt Rd</th>\n",
       "      <th>Indiana Ave &amp; Roosevelt Rd</th>\n",
       "      <td>2931</td>\n",
       "    </tr>\n",
       "    <tr>\n",
       "      <th>Montrose Harbor</th>\n",
       "      <th>Montrose Harbor</th>\n",
       "      <td>2838</td>\n",
       "    </tr>\n",
       "    <tr>\n",
       "      <th rowspan=\"10\" valign=\"top\">member</th>\n",
       "      <th>Ellis Ave &amp; 60th St</th>\n",
       "      <th>Ellis Ave &amp; 55th St</th>\n",
       "      <td>2769</td>\n",
       "    </tr>\n",
       "    <tr>\n",
       "      <th>Ellis Ave &amp; 55th St</th>\n",
       "      <th>Ellis Ave &amp; 60th St</th>\n",
       "      <td>2471</td>\n",
       "    </tr>\n",
       "    <tr>\n",
       "      <th>State St &amp; 33rd St</th>\n",
       "      <th>Calumet Ave &amp; 33rd St</th>\n",
       "      <td>1440</td>\n",
       "    </tr>\n",
       "    <tr>\n",
       "      <th>MLK Jr Dr &amp; 29th St</th>\n",
       "      <th>State St &amp; 33rd St</th>\n",
       "      <td>1400</td>\n",
       "    </tr>\n",
       "    <tr>\n",
       "      <th>Calumet Ave &amp; 33rd St</th>\n",
       "      <th>State St &amp; 33rd St</th>\n",
       "      <td>1340</td>\n",
       "    </tr>\n",
       "    <tr>\n",
       "      <th>Loomis St &amp; Lexington St</th>\n",
       "      <th>Morgan St &amp; Polk St</th>\n",
       "      <td>1335</td>\n",
       "    </tr>\n",
       "    <tr>\n",
       "      <th>State St &amp; 33rd St</th>\n",
       "      <th>MLK Jr Dr &amp; 29th St</th>\n",
       "      <td>1293</td>\n",
       "    </tr>\n",
       "    <tr>\n",
       "      <th>Morgan St &amp; Polk St</th>\n",
       "      <th>Loomis St &amp; Lexington St</th>\n",
       "      <td>1214</td>\n",
       "    </tr>\n",
       "    <tr>\n",
       "      <th>Loomis St &amp; Lexington St</th>\n",
       "      <th>Halsted St &amp; Polk St</th>\n",
       "      <td>1179</td>\n",
       "    </tr>\n",
       "    <tr>\n",
       "      <th>Ellis Ave &amp; 60th St</th>\n",
       "      <th>University Ave &amp; 57th St</th>\n",
       "      <td>1137</td>\n",
       "    </tr>\n",
       "  </tbody>\n",
       "</table>\n",
       "</div>"
      ],
      "text/plain": [
       "                                                                       count\n",
       "membership_type start_station              end_station                      \n",
       "casual          Streeter Dr & Grand Ave    Streeter Dr & Grand Ave     10559\n",
       "                Millennium Park            Millennium Park              5815\n",
       "                Michigan Ave & Oak St      Michigan Ave & Oak St        5569\n",
       "                Lake Shore Dr & Monroe St  Lake Shore Dr & Monroe St    5534\n",
       "                Buckingham Fountain        Buckingham Fountain          3507\n",
       "                Theater on the Lake        Theater on the Lake          3084\n",
       "                Lake Shore Dr & Monroe St  Streeter Dr & Grand Ave      3050\n",
       "                Streeter Dr & Grand Ave    Millennium Park              2957\n",
       "                Indiana Ave & Roosevelt Rd Indiana Ave & Roosevelt Rd   2931\n",
       "                Montrose Harbor            Montrose Harbor              2838\n",
       "member          Ellis Ave & 60th St        Ellis Ave & 55th St          2769\n",
       "                Ellis Ave & 55th St        Ellis Ave & 60th St          2471\n",
       "                State St & 33rd St         Calumet Ave & 33rd St        1440\n",
       "                MLK Jr Dr & 29th St        State St & 33rd St           1400\n",
       "                Calumet Ave & 33rd St      State St & 33rd St           1340\n",
       "                Loomis St & Lexington St   Morgan St & Polk St          1335\n",
       "                State St & 33rd St         MLK Jr Dr & 29th St          1293\n",
       "                Morgan St & Polk St        Loomis St & Lexington St     1214\n",
       "                Loomis St & Lexington St   Halsted St & Polk St         1179\n",
       "                Ellis Ave & 60th St        University Ave & 57th St     1137"
      ]
     },
     "execution_count": 48,
     "metadata": {},
     "output_type": "execute_result"
    }
   ],
   "source": [
    "# Create an empty dataframe\n",
    "most_frequent_routes = pd.DataFrame(columns=['membership_type', 'start_station', 'end_station', 'ride_id'])\n",
    "\n",
    "# Subset the dataframe\n",
    "temp = df[['ride_id', 'membership_type', 'start_station', 'end_station']]\n",
    "\n",
    "for group, frame in temp.groupby('membership_type'):\n",
    "    \n",
    "    df_temp = frame.groupby(['start_station', 'end_station']).agg({'ride_id': pd.Series.nunique})\n",
    "    df_temp = df_temp.nlargest(10, columns='ride_id').reset_index()\n",
    "    df_temp['membership_type'] = group\n",
    "    \n",
    "    most_frequent_routes = pd.concat([most_frequent_routes, df_temp], ignore_index=True)\n",
    "\n",
    "most_frequent_routes.rename(columns={'ride_id': 'count'}, inplace=True)\n",
    "most_frequent_routes.set_index(['membership_type', 'start_station', 'end_station'])"
   ]
  },
  {
   "cell_type": "markdown",
   "id": "399de818",
   "metadata": {
    "papermill": {
     "duration": 0.069222,
     "end_time": "2022-04-06T23:20:20.546690",
     "exception": false,
     "start_time": "2022-04-06T23:20:20.477468",
     "status": "completed"
    },
    "tags": []
   },
   "source": [
    "## 5. Summary"
   ]
  },
  {
   "cell_type": "markdown",
   "id": "9f08a101",
   "metadata": {
    "papermill": {
     "duration": 0.083894,
     "end_time": "2022-04-06T23:20:20.724053",
     "exception": false,
     "start_time": "2022-04-06T23:20:20.640159",
     "status": "completed"
    },
    "tags": []
   },
   "source": [
    "* The service was more use by members (55%) than by casual users (45%).\n",
    "* The classic bikes type is the most popular type among users.\n",
    "* The casual users spend more time on average than members. \n",
    "* The most active days for casual users are the weekends, and the members use the service more on the middle of the week.\n",
    "* The service is more use in spring and summer months, and less use in winter and autumn."
   ]
  },
  {
   "cell_type": "code",
   "execution_count": null,
   "id": "8ec89783",
   "metadata": {
    "papermill": {
     "duration": 0.074544,
     "end_time": "2022-04-06T23:20:20.877090",
     "exception": false,
     "start_time": "2022-04-06T23:20:20.802546",
     "status": "completed"
    },
    "tags": []
   },
   "outputs": [],
   "source": []
  }
 ],
 "metadata": {
  "kernelspec": {
   "display_name": "Python 3 (ipykernel)",
   "language": "python",
   "name": "python3"
  },
  "language_info": {
   "codemirror_mode": {
    "name": "ipython",
    "version": 3
   },
   "file_extension": ".py",
   "mimetype": "text/x-python",
   "name": "python",
   "nbconvert_exporter": "python",
   "pygments_lexer": "ipython3",
   "version": "3.9.12"
  },
  "papermill": {
   "default_parameters": {},
   "duration": 144.219157,
   "end_time": "2022-04-06T23:20:22.964852",
   "environment_variables": {},
   "exception": null,
   "input_path": "__notebook__.ipynb",
   "output_path": "__notebook__.ipynb",
   "parameters": {},
   "start_time": "2022-04-06T23:17:58.745695",
   "version": "2.3.3"
  }
 },
 "nbformat": 4,
 "nbformat_minor": 5
}
